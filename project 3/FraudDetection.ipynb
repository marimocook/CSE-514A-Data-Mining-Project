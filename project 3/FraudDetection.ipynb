{
  "nbformat": 4,
  "nbformat_minor": 0,
  "metadata": {
    "colab": {
      "name": "FraudDetection.ipynb",
      "provenance": [],
      "collapsed_sections": [
        "z37Mw3VhWetn"
      ],
      "toc_visible": true
    },
    "kernelspec": {
      "name": "python3",
      "display_name": "Python 3"
    },
    "accelerator": "GPU"
  },
  "cells": [
    {
      "cell_type": "code",
      "metadata": {
        "id": "GRHaNqQeYybX",
        "colab_type": "code",
        "outputId": "5c3533c4-b374-427f-c036-35454fbf7731",
        "colab": {
          "base_uri": "https://localhost:8080/",
          "height": 338
        }
      },
      "source": [
        "# Install a Drive FUSE wrapper.\n",
        "# https://github.com/astrada/google-drive-ocamlfuse\n",
        "\n",
        "!apt-get install -y -qq software-properties-common python-software-properties module-init-tools\n",
        "!add-apt-repository -y ppa:alessandro-strada/ppa 2>&1 > /dev/null \n",
        "!apt-get update -qq 2>&1 > /dev/null\n",
        "!apt-get -y install -qq google-drive-ocamlfuse fuse\n",
        "\n",
        "# Generate auth tokens for Colab\n",
        "\n",
        "from google.colab import auth \n",
        "auth.authenticate_user()\n",
        "  \n",
        "# Generate creds for the Drive FUSE library.\n",
        "\n",
        "from oauth2client.client import GoogleCredentials \n",
        "creds = GoogleCredentials.get_application_default()\n",
        "import getpass \n",
        "!google-drive-ocamlfuse -headless -id={creds.client_id} -secret={creds.client_secret} < /dev/null 2>&1 | grep URL\n",
        "vcode = getpass.getpass() \n",
        "!echo {vcode} | google-drive-ocamlfuse -headless -id={creds.client_id} -secret={creds.client_secret}\n",
        "\n",
        "# Create a directory and mount Google Drive using that directory.\n",
        "!mkdir -p drive\n",
        "!google-drive-ocamlfuse drive\n",
        "\n",
        "\n",
        "print ('Files in Drive:')\n",
        "!ls drive/"
      ],
      "execution_count": 0,
      "outputs": [
        {
          "output_type": "stream",
          "text": [
            "E: Package 'python-software-properties' has no installation candidate\n",
            "Selecting previously unselected package google-drive-ocamlfuse.\n",
            "(Reading database ... 145653 files and directories currently installed.)\n",
            "Preparing to unpack .../google-drive-ocamlfuse_0.7.14-0ubuntu1~ubuntu18.04.1_amd64.deb ...\n",
            "Unpacking google-drive-ocamlfuse (0.7.14-0ubuntu1~ubuntu18.04.1) ...\n",
            "Setting up google-drive-ocamlfuse (0.7.14-0ubuntu1~ubuntu18.04.1) ...\n",
            "Processing triggers for man-db (2.8.3-2ubuntu0.1) ...\n",
            "Please, open the following URL in a web browser: https://accounts.google.com/o/oauth2/auth?client_id=32555940559.apps.googleusercontent.com&redirect_uri=urn%3Aietf%3Awg%3Aoauth%3A2.0%3Aoob&scope=https%3A%2F%2Fwww.googleapis.com%2Fauth%2Fdrive&response_type=code&access_type=offline&approval_prompt=force\n",
            "··········\n",
            "Please, open the following URL in a web browser: https://accounts.google.com/o/oauth2/auth?client_id=32555940559.apps.googleusercontent.com&redirect_uri=urn%3Aietf%3Awg%3Aoauth%3A2.0%3Aoob&scope=https%3A%2F%2Fwww.googleapis.com%2Fauth%2Fdrive&response_type=code&access_type=offline&approval_prompt=force\n",
            "Please enter the verification code: Access token retrieved correctly.\n",
            "Files in Drive:\n",
            "'5_5_19 Meeting.desktop'\t     CSE514_Project\n",
            "'Colab Notebooks'\t\t    'Getting started'\n",
            " CSE416_Final_Presentation.desktop   netRegression-Dist-1.0\n",
            " CSE514\t\t\t\t    'netRegression-Dist-1.0 (7e8680a6)'\n",
            " CSE514_part2\t\t\t    'Pullman Shared Drive'\n"
          ],
          "name": "stdout"
        }
      ]
    },
    {
      "cell_type": "code",
      "metadata": {
        "id": "jeqS8ejzY7ZI",
        "colab_type": "code",
        "outputId": "5494d681-60f8-4fd6-f36b-5f9887a88143",
        "colab": {
          "base_uri": "https://localhost:8080/",
          "height": 222
        }
      },
      "source": [
        "\n",
        "# Imported Libraries\n",
        "\n",
        "import numpy as np # linear algebra\n",
        "import pandas as pd # data processing, CSV file I/O (e.g. pd.read_csv)\n",
        "import tensorflow as tf\n",
        "import matplotlib.pyplot as plt\n",
        "import seaborn as sns\n",
        "from sklearn.manifold import TSNE\n",
        "from sklearn.decomposition import PCA, TruncatedSVD\n",
        "import matplotlib.patches as mpatches\n",
        "import time\n",
        "from tqdm import tqdm\n",
        "import matplotlib.pyplot as plt\n",
        "\n",
        "\n",
        "# Classifier Libraries\n",
        "from sklearn.linear_model import LogisticRegression\n",
        "from sklearn.svm import SVC\n",
        "from sklearn.neighbors import KNeighborsClassifier\n",
        "from sklearn.tree import DecisionTreeClassifier\n",
        "from sklearn.ensemble import RandomForestClassifier\n",
        "import collections\n",
        "\n",
        "\n",
        "# Other Libraries\n",
        "from sklearn.model_selection import train_test_split\n",
        "from sklearn.pipeline import make_pipeline\n",
        "from sklearn.model_selection import cross_val_score\n",
        "from sklearn import preprocessing\n",
        "from imblearn.pipeline import make_pipeline as imbalanced_make_pipeline\n",
        "from imblearn.over_sampling import SMOTE\n",
        "from imblearn.under_sampling import NearMiss\n",
        "from imblearn.metrics import classification_report_imbalanced\n",
        "from sklearn.metrics import precision_score, recall_score, f1_score, roc_auc_score, accuracy_score, classification_report\n",
        "from collections import Counter\n",
        "from sklearn.model_selection import KFold, StratifiedKFold\n",
        "from sklearn.metrics import confusion_matrix\n",
        "\n",
        "import matplotlib.pyplot as plt\n",
        "import warnings\n",
        "\n",
        "warnings.filterwarnings(\"ignore\")\n",
        "\n",
        "\n",
        "df = pd.read_csv('drive/Colab Notebooks/creditcard.csv')\n",
        "df.head()"
      ],
      "execution_count": 0,
      "outputs": [
        {
          "output_type": "execute_result",
          "data": {
            "text/html": [
              "<div>\n",
              "<style scoped>\n",
              "    .dataframe tbody tr th:only-of-type {\n",
              "        vertical-align: middle;\n",
              "    }\n",
              "\n",
              "    .dataframe tbody tr th {\n",
              "        vertical-align: top;\n",
              "    }\n",
              "\n",
              "    .dataframe thead th {\n",
              "        text-align: right;\n",
              "    }\n",
              "</style>\n",
              "<table border=\"1\" class=\"dataframe\">\n",
              "  <thead>\n",
              "    <tr style=\"text-align: right;\">\n",
              "      <th></th>\n",
              "      <th>Time</th>\n",
              "      <th>V1</th>\n",
              "      <th>V2</th>\n",
              "      <th>V3</th>\n",
              "      <th>V4</th>\n",
              "      <th>V5</th>\n",
              "      <th>V6</th>\n",
              "      <th>V7</th>\n",
              "      <th>V8</th>\n",
              "      <th>V9</th>\n",
              "      <th>V10</th>\n",
              "      <th>V11</th>\n",
              "      <th>V12</th>\n",
              "      <th>V13</th>\n",
              "      <th>V14</th>\n",
              "      <th>V15</th>\n",
              "      <th>V16</th>\n",
              "      <th>V17</th>\n",
              "      <th>V18</th>\n",
              "      <th>V19</th>\n",
              "      <th>V20</th>\n",
              "      <th>V21</th>\n",
              "      <th>V22</th>\n",
              "      <th>V23</th>\n",
              "      <th>V24</th>\n",
              "      <th>V25</th>\n",
              "      <th>V26</th>\n",
              "      <th>V27</th>\n",
              "      <th>V28</th>\n",
              "      <th>Amount</th>\n",
              "      <th>Class</th>\n",
              "    </tr>\n",
              "  </thead>\n",
              "  <tbody>\n",
              "    <tr>\n",
              "      <th>0</th>\n",
              "      <td>0.0</td>\n",
              "      <td>-1.359807</td>\n",
              "      <td>-0.072781</td>\n",
              "      <td>2.536347</td>\n",
              "      <td>1.378155</td>\n",
              "      <td>-0.338321</td>\n",
              "      <td>0.462388</td>\n",
              "      <td>0.239599</td>\n",
              "      <td>0.098698</td>\n",
              "      <td>0.363787</td>\n",
              "      <td>0.090794</td>\n",
              "      <td>-0.551600</td>\n",
              "      <td>-0.617801</td>\n",
              "      <td>-0.991390</td>\n",
              "      <td>-0.311169</td>\n",
              "      <td>1.468177</td>\n",
              "      <td>-0.470401</td>\n",
              "      <td>0.207971</td>\n",
              "      <td>0.025791</td>\n",
              "      <td>0.403993</td>\n",
              "      <td>0.251412</td>\n",
              "      <td>-0.018307</td>\n",
              "      <td>0.277838</td>\n",
              "      <td>-0.110474</td>\n",
              "      <td>0.066928</td>\n",
              "      <td>0.128539</td>\n",
              "      <td>-0.189115</td>\n",
              "      <td>0.133558</td>\n",
              "      <td>-0.021053</td>\n",
              "      <td>149.62</td>\n",
              "      <td>0</td>\n",
              "    </tr>\n",
              "    <tr>\n",
              "      <th>1</th>\n",
              "      <td>0.0</td>\n",
              "      <td>1.191857</td>\n",
              "      <td>0.266151</td>\n",
              "      <td>0.166480</td>\n",
              "      <td>0.448154</td>\n",
              "      <td>0.060018</td>\n",
              "      <td>-0.082361</td>\n",
              "      <td>-0.078803</td>\n",
              "      <td>0.085102</td>\n",
              "      <td>-0.255425</td>\n",
              "      <td>-0.166974</td>\n",
              "      <td>1.612727</td>\n",
              "      <td>1.065235</td>\n",
              "      <td>0.489095</td>\n",
              "      <td>-0.143772</td>\n",
              "      <td>0.635558</td>\n",
              "      <td>0.463917</td>\n",
              "      <td>-0.114805</td>\n",
              "      <td>-0.183361</td>\n",
              "      <td>-0.145783</td>\n",
              "      <td>-0.069083</td>\n",
              "      <td>-0.225775</td>\n",
              "      <td>-0.638672</td>\n",
              "      <td>0.101288</td>\n",
              "      <td>-0.339846</td>\n",
              "      <td>0.167170</td>\n",
              "      <td>0.125895</td>\n",
              "      <td>-0.008983</td>\n",
              "      <td>0.014724</td>\n",
              "      <td>2.69</td>\n",
              "      <td>0</td>\n",
              "    </tr>\n",
              "    <tr>\n",
              "      <th>2</th>\n",
              "      <td>1.0</td>\n",
              "      <td>-1.358354</td>\n",
              "      <td>-1.340163</td>\n",
              "      <td>1.773209</td>\n",
              "      <td>0.379780</td>\n",
              "      <td>-0.503198</td>\n",
              "      <td>1.800499</td>\n",
              "      <td>0.791461</td>\n",
              "      <td>0.247676</td>\n",
              "      <td>-1.514654</td>\n",
              "      <td>0.207643</td>\n",
              "      <td>0.624501</td>\n",
              "      <td>0.066084</td>\n",
              "      <td>0.717293</td>\n",
              "      <td>-0.165946</td>\n",
              "      <td>2.345865</td>\n",
              "      <td>-2.890083</td>\n",
              "      <td>1.109969</td>\n",
              "      <td>-0.121359</td>\n",
              "      <td>-2.261857</td>\n",
              "      <td>0.524980</td>\n",
              "      <td>0.247998</td>\n",
              "      <td>0.771679</td>\n",
              "      <td>0.909412</td>\n",
              "      <td>-0.689281</td>\n",
              "      <td>-0.327642</td>\n",
              "      <td>-0.139097</td>\n",
              "      <td>-0.055353</td>\n",
              "      <td>-0.059752</td>\n",
              "      <td>378.66</td>\n",
              "      <td>0</td>\n",
              "    </tr>\n",
              "    <tr>\n",
              "      <th>3</th>\n",
              "      <td>1.0</td>\n",
              "      <td>-0.966272</td>\n",
              "      <td>-0.185226</td>\n",
              "      <td>1.792993</td>\n",
              "      <td>-0.863291</td>\n",
              "      <td>-0.010309</td>\n",
              "      <td>1.247203</td>\n",
              "      <td>0.237609</td>\n",
              "      <td>0.377436</td>\n",
              "      <td>-1.387024</td>\n",
              "      <td>-0.054952</td>\n",
              "      <td>-0.226487</td>\n",
              "      <td>0.178228</td>\n",
              "      <td>0.507757</td>\n",
              "      <td>-0.287924</td>\n",
              "      <td>-0.631418</td>\n",
              "      <td>-1.059647</td>\n",
              "      <td>-0.684093</td>\n",
              "      <td>1.965775</td>\n",
              "      <td>-1.232622</td>\n",
              "      <td>-0.208038</td>\n",
              "      <td>-0.108300</td>\n",
              "      <td>0.005274</td>\n",
              "      <td>-0.190321</td>\n",
              "      <td>-1.175575</td>\n",
              "      <td>0.647376</td>\n",
              "      <td>-0.221929</td>\n",
              "      <td>0.062723</td>\n",
              "      <td>0.061458</td>\n",
              "      <td>123.50</td>\n",
              "      <td>0</td>\n",
              "    </tr>\n",
              "    <tr>\n",
              "      <th>4</th>\n",
              "      <td>2.0</td>\n",
              "      <td>-1.158233</td>\n",
              "      <td>0.877737</td>\n",
              "      <td>1.548718</td>\n",
              "      <td>0.403034</td>\n",
              "      <td>-0.407193</td>\n",
              "      <td>0.095921</td>\n",
              "      <td>0.592941</td>\n",
              "      <td>-0.270533</td>\n",
              "      <td>0.817739</td>\n",
              "      <td>0.753074</td>\n",
              "      <td>-0.822843</td>\n",
              "      <td>0.538196</td>\n",
              "      <td>1.345852</td>\n",
              "      <td>-1.119670</td>\n",
              "      <td>0.175121</td>\n",
              "      <td>-0.451449</td>\n",
              "      <td>-0.237033</td>\n",
              "      <td>-0.038195</td>\n",
              "      <td>0.803487</td>\n",
              "      <td>0.408542</td>\n",
              "      <td>-0.009431</td>\n",
              "      <td>0.798278</td>\n",
              "      <td>-0.137458</td>\n",
              "      <td>0.141267</td>\n",
              "      <td>-0.206010</td>\n",
              "      <td>0.502292</td>\n",
              "      <td>0.219422</td>\n",
              "      <td>0.215153</td>\n",
              "      <td>69.99</td>\n",
              "      <td>0</td>\n",
              "    </tr>\n",
              "  </tbody>\n",
              "</table>\n",
              "</div>"
            ],
            "text/plain": [
              "   Time        V1        V2        V3  ...       V27       V28  Amount  Class\n",
              "0   0.0 -1.359807 -0.072781  2.536347  ...  0.133558 -0.021053  149.62      0\n",
              "1   0.0  1.191857  0.266151  0.166480  ... -0.008983  0.014724    2.69      0\n",
              "2   1.0 -1.358354 -1.340163  1.773209  ... -0.055353 -0.059752  378.66      0\n",
              "3   1.0 -0.966272 -0.185226  1.792993  ...  0.062723  0.061458  123.50      0\n",
              "4   2.0 -1.158233  0.877737  1.548718  ...  0.219422  0.215153   69.99      0\n",
              "\n",
              "[5 rows x 31 columns]"
            ]
          },
          "metadata": {
            "tags": []
          },
          "execution_count": 105
        }
      ]
    },
    {
      "cell_type": "code",
      "metadata": {
        "id": "QjCpcs-lhXyy",
        "colab_type": "code",
        "colab": {}
      },
      "source": [
        "# from google.colab import drive\n",
        "# drive.mount('/content/drive')"
      ],
      "execution_count": 0,
      "outputs": []
    },
    {
      "cell_type": "markdown",
      "metadata": {
        "id": "6kYw_fWcKj9c",
        "colab_type": "text"
      },
      "source": [
        "# Pre-Processing"
      ]
    },
    {
      "cell_type": "code",
      "metadata": {
        "id": "19gNfjmhZf-7",
        "colab_type": "code",
        "outputId": "3b94cc00-1e69-4bf7-de9d-bcbc8ae66fa7",
        "colab": {
          "base_uri": "https://localhost:8080/",
          "height": 316
        }
      },
      "source": [
        "print('No Frauds', round(df['Class'].value_counts()[0]/len(df) * 100,2), '% of the dataset')\n",
        "print('Frauds', round(df['Class'].value_counts()[1]/len(df) * 100,2), '% of the dataset')\n",
        "#Count classes\n",
        "counts = df['Class'].value_counts()\n",
        "labels = ('No Fraud','Fraud')\n",
        "y_pos = np.arange(len(labels))\n",
        "# Plotting class bar graph\n",
        "barlist = plt.bar(y_pos, counts, align='center', alpha=0.5)\n",
        "barlist[1].set_color('r')\n",
        "plt.xticks(y_pos, labels)\n",
        "plt.ylabel('Counts')\n",
        "plt.title('No Fraud and Fraud Case Counts')\n",
        "\n",
        "plt.show()"
      ],
      "execution_count": 0,
      "outputs": [
        {
          "output_type": "stream",
          "text": [
            "No Frauds 99.83 % of the dataset\n",
            "Frauds 0.17 % of the dataset\n"
          ],
          "name": "stdout"
        },
        {
          "output_type": "display_data",
          "data": {
            "image/png": "[encoded data removed]",
            "text/plain": [
              "<Figure size 432x288 with 1 Axes>"
            ]
          },
          "metadata": {
            "tags": []
          }
        }
      ]
    },
    {
      "cell_type": "code",
      "metadata": {
        "id": "3tJE2mo2ousA",
        "colab_type": "code",
        "outputId": "341ca142-a8d3-4c29-8e09-3fd3a6121ed5",
        "colab": {
          "base_uri": "https://localhost:8080/",
          "height": 70
        }
      },
      "source": [
        "counts"
      ],
      "execution_count": 0,
      "outputs": [
        {
          "output_type": "execute_result",
          "data": {
            "text/plain": [
              "0    284315\n",
              "1       492\n",
              "Name: Class, dtype: int64"
            ]
          },
          "metadata": {
            "tags": []
          },
          "execution_count": 108
        }
      ]
    },
    {
      "cell_type": "code",
      "metadata": {
        "id": "bVv69VTfaBM6",
        "colab_type": "code",
        "outputId": "37fc460b-1f07-41a9-f4d8-8003ed2223c5",
        "colab": {
          "base_uri": "https://localhost:8080/",
          "height": 222
        }
      },
      "source": [
        "\n",
        "#Normalize Amount column\n",
        "amount_unscaled = df[['Amount']].values.astype(float)\n",
        "min_max_scaler = preprocessing.MinMaxScaler()\n",
        "amount_scaled = min_max_scaler.fit_transform(amount_unscaled)\n",
        "df['Amount'] = pd.DataFrame(amount_scaled)\n",
        "\n",
        "#Normalize Time column\n",
        "time_unscaled = df[['Time']].values.astype(float)\n",
        "min_max_scaler = preprocessing.MinMaxScaler()\n",
        "time_scaled = min_max_scaler.fit_transform(time_unscaled)\n",
        "df['Time'] = pd.DataFrame(time_scaled)\n",
        "\n",
        "#Print normalied df\n",
        "df.head()"
      ],
      "execution_count": 0,
      "outputs": [
        {
          "output_type": "execute_result",
          "data": {
            "text/html": [
              "<div>\n",
              "<style scoped>\n",
              "    .dataframe tbody tr th:only-of-type {\n",
              "        vertical-align: middle;\n",
              "    }\n",
              "\n",
              "    .dataframe tbody tr th {\n",
              "        vertical-align: top;\n",
              "    }\n",
              "\n",
              "    .dataframe thead th {\n",
              "        text-align: right;\n",
              "    }\n",
              "</style>\n",
              "<table border=\"1\" class=\"dataframe\">\n",
              "  <thead>\n",
              "    <tr style=\"text-align: right;\">\n",
              "      <th></th>\n",
              "      <th>Time</th>\n",
              "      <th>V1</th>\n",
              "      <th>V2</th>\n",
              "      <th>V3</th>\n",
              "      <th>V4</th>\n",
              "      <th>V5</th>\n",
              "      <th>V6</th>\n",
              "      <th>V7</th>\n",
              "      <th>V8</th>\n",
              "      <th>V9</th>\n",
              "      <th>V10</th>\n",
              "      <th>V11</th>\n",
              "      <th>V12</th>\n",
              "      <th>V13</th>\n",
              "      <th>V14</th>\n",
              "      <th>V15</th>\n",
              "      <th>V16</th>\n",
              "      <th>V17</th>\n",
              "      <th>V18</th>\n",
              "      <th>V19</th>\n",
              "      <th>V20</th>\n",
              "      <th>V21</th>\n",
              "      <th>V22</th>\n",
              "      <th>V23</th>\n",
              "      <th>V24</th>\n",
              "      <th>V25</th>\n",
              "      <th>V26</th>\n",
              "      <th>V27</th>\n",
              "      <th>V28</th>\n",
              "      <th>Amount</th>\n",
              "      <th>Class</th>\n",
              "    </tr>\n",
              "  </thead>\n",
              "  <tbody>\n",
              "    <tr>\n",
              "      <th>0</th>\n",
              "      <td>0.000000</td>\n",
              "      <td>-1.359807</td>\n",
              "      <td>-0.072781</td>\n",
              "      <td>2.536347</td>\n",
              "      <td>1.378155</td>\n",
              "      <td>-0.338321</td>\n",
              "      <td>0.462388</td>\n",
              "      <td>0.239599</td>\n",
              "      <td>0.098698</td>\n",
              "      <td>0.363787</td>\n",
              "      <td>0.090794</td>\n",
              "      <td>-0.551600</td>\n",
              "      <td>-0.617801</td>\n",
              "      <td>-0.991390</td>\n",
              "      <td>-0.311169</td>\n",
              "      <td>1.468177</td>\n",
              "      <td>-0.470401</td>\n",
              "      <td>0.207971</td>\n",
              "      <td>0.025791</td>\n",
              "      <td>0.403993</td>\n",
              "      <td>0.251412</td>\n",
              "      <td>-0.018307</td>\n",
              "      <td>0.277838</td>\n",
              "      <td>-0.110474</td>\n",
              "      <td>0.066928</td>\n",
              "      <td>0.128539</td>\n",
              "      <td>-0.189115</td>\n",
              "      <td>0.133558</td>\n",
              "      <td>-0.021053</td>\n",
              "      <td>0.005824</td>\n",
              "      <td>0</td>\n",
              "    </tr>\n",
              "    <tr>\n",
              "      <th>1</th>\n",
              "      <td>0.000000</td>\n",
              "      <td>1.191857</td>\n",
              "      <td>0.266151</td>\n",
              "      <td>0.166480</td>\n",
              "      <td>0.448154</td>\n",
              "      <td>0.060018</td>\n",
              "      <td>-0.082361</td>\n",
              "      <td>-0.078803</td>\n",
              "      <td>0.085102</td>\n",
              "      <td>-0.255425</td>\n",
              "      <td>-0.166974</td>\n",
              "      <td>1.612727</td>\n",
              "      <td>1.065235</td>\n",
              "      <td>0.489095</td>\n",
              "      <td>-0.143772</td>\n",
              "      <td>0.635558</td>\n",
              "      <td>0.463917</td>\n",
              "      <td>-0.114805</td>\n",
              "      <td>-0.183361</td>\n",
              "      <td>-0.145783</td>\n",
              "      <td>-0.069083</td>\n",
              "      <td>-0.225775</td>\n",
              "      <td>-0.638672</td>\n",
              "      <td>0.101288</td>\n",
              "      <td>-0.339846</td>\n",
              "      <td>0.167170</td>\n",
              "      <td>0.125895</td>\n",
              "      <td>-0.008983</td>\n",
              "      <td>0.014724</td>\n",
              "      <td>0.000105</td>\n",
              "      <td>0</td>\n",
              "    </tr>\n",
              "    <tr>\n",
              "      <th>2</th>\n",
              "      <td>0.000006</td>\n",
              "      <td>-1.358354</td>\n",
              "      <td>-1.340163</td>\n",
              "      <td>1.773209</td>\n",
              "      <td>0.379780</td>\n",
              "      <td>-0.503198</td>\n",
              "      <td>1.800499</td>\n",
              "      <td>0.791461</td>\n",
              "      <td>0.247676</td>\n",
              "      <td>-1.514654</td>\n",
              "      <td>0.207643</td>\n",
              "      <td>0.624501</td>\n",
              "      <td>0.066084</td>\n",
              "      <td>0.717293</td>\n",
              "      <td>-0.165946</td>\n",
              "      <td>2.345865</td>\n",
              "      <td>-2.890083</td>\n",
              "      <td>1.109969</td>\n",
              "      <td>-0.121359</td>\n",
              "      <td>-2.261857</td>\n",
              "      <td>0.524980</td>\n",
              "      <td>0.247998</td>\n",
              "      <td>0.771679</td>\n",
              "      <td>0.909412</td>\n",
              "      <td>-0.689281</td>\n",
              "      <td>-0.327642</td>\n",
              "      <td>-0.139097</td>\n",
              "      <td>-0.055353</td>\n",
              "      <td>-0.059752</td>\n",
              "      <td>0.014739</td>\n",
              "      <td>0</td>\n",
              "    </tr>\n",
              "    <tr>\n",
              "      <th>3</th>\n",
              "      <td>0.000006</td>\n",
              "      <td>-0.966272</td>\n",
              "      <td>-0.185226</td>\n",
              "      <td>1.792993</td>\n",
              "      <td>-0.863291</td>\n",
              "      <td>-0.010309</td>\n",
              "      <td>1.247203</td>\n",
              "      <td>0.237609</td>\n",
              "      <td>0.377436</td>\n",
              "      <td>-1.387024</td>\n",
              "      <td>-0.054952</td>\n",
              "      <td>-0.226487</td>\n",
              "      <td>0.178228</td>\n",
              "      <td>0.507757</td>\n",
              "      <td>-0.287924</td>\n",
              "      <td>-0.631418</td>\n",
              "      <td>-1.059647</td>\n",
              "      <td>-0.684093</td>\n",
              "      <td>1.965775</td>\n",
              "      <td>-1.232622</td>\n",
              "      <td>-0.208038</td>\n",
              "      <td>-0.108300</td>\n",
              "      <td>0.005274</td>\n",
              "      <td>-0.190321</td>\n",
              "      <td>-1.175575</td>\n",
              "      <td>0.647376</td>\n",
              "      <td>-0.221929</td>\n",
              "      <td>0.062723</td>\n",
              "      <td>0.061458</td>\n",
              "      <td>0.004807</td>\n",
              "      <td>0</td>\n",
              "    </tr>\n",
              "    <tr>\n",
              "      <th>4</th>\n",
              "      <td>0.000012</td>\n",
              "      <td>-1.158233</td>\n",
              "      <td>0.877737</td>\n",
              "      <td>1.548718</td>\n",
              "      <td>0.403034</td>\n",
              "      <td>-0.407193</td>\n",
              "      <td>0.095921</td>\n",
              "      <td>0.592941</td>\n",
              "      <td>-0.270533</td>\n",
              "      <td>0.817739</td>\n",
              "      <td>0.753074</td>\n",
              "      <td>-0.822843</td>\n",
              "      <td>0.538196</td>\n",
              "      <td>1.345852</td>\n",
              "      <td>-1.119670</td>\n",
              "      <td>0.175121</td>\n",
              "      <td>-0.451449</td>\n",
              "      <td>-0.237033</td>\n",
              "      <td>-0.038195</td>\n",
              "      <td>0.803487</td>\n",
              "      <td>0.408542</td>\n",
              "      <td>-0.009431</td>\n",
              "      <td>0.798278</td>\n",
              "      <td>-0.137458</td>\n",
              "      <td>0.141267</td>\n",
              "      <td>-0.206010</td>\n",
              "      <td>0.502292</td>\n",
              "      <td>0.219422</td>\n",
              "      <td>0.215153</td>\n",
              "      <td>0.002724</td>\n",
              "      <td>0</td>\n",
              "    </tr>\n",
              "  </tbody>\n",
              "</table>\n",
              "</div>"
            ],
            "text/plain": [
              "       Time        V1        V2        V3  ...       V27       V28    Amount  Class\n",
              "0  0.000000 -1.359807 -0.072781  2.536347  ...  0.133558 -0.021053  0.005824      0\n",
              "1  0.000000  1.191857  0.266151  0.166480  ... -0.008983  0.014724  0.000105      0\n",
              "2  0.000006 -1.358354 -1.340163  1.773209  ... -0.055353 -0.059752  0.014739      0\n",
              "3  0.000006 -0.966272 -0.185226  1.792993  ...  0.062723  0.061458  0.004807      0\n",
              "4  0.000012 -1.158233  0.877737  1.548718  ...  0.219422  0.215153  0.002724      0\n",
              "\n",
              "[5 rows x 31 columns]"
            ]
          },
          "metadata": {
            "tags": []
          },
          "execution_count": 109
        }
      ]
    },
    {
      "cell_type": "markdown",
      "metadata": {
        "id": "DPgy_wleRLPH",
        "colab_type": "text"
      },
      "source": [
        "## Train test split original df\n"
      ]
    },
    {
      "cell_type": "code",
      "metadata": {
        "id": "4YfkT_gtROH1",
        "colab_type": "code",
        "outputId": "d67a9529-a65b-4b4c-d90d-a38a7302b842",
        "colab": {
          "base_uri": "https://localhost:8080/",
          "height": 194
        }
      },
      "source": [
        "orig_X = df.drop('Class', axis=1)\n",
        "orig_y = df['Class']\n",
        "\n",
        "skf = StratifiedKFold(n_splits=5, random_state=None, shuffle=False)\n",
        "\n",
        "for train_ind, test_ind in skf.split(orig_X, orig_y):\n",
        "    print(\"Train:\", train_ind, \"Test:\", test_ind)\n",
        "    orig_Xtrain, orig_Xtest = orig_X.iloc[train_ind], orig_X.iloc[test_ind]\n",
        "    orig_ytrain, orig_ytest = orig_y.iloc[train_ind], orig_y.iloc[test_ind]\n",
        "\n",
        "orig_Xtrain = orig_Xtrain.values\n",
        "orig_Xtest = orig_Xtest.values\n",
        "orig_ytrain = orig_ytrain.values\n",
        "orig_ytest = orig_ytest.values\n",
        "\n",
        "# See if both the train and test label distribution are similarly distributed\n",
        "train_unique_label, train_counts_label = np.unique(orig_ytrain, return_counts=True)\n",
        "test_unique_label, test_counts_label = np.unique(orig_ytest, return_counts=True)\n",
        "print('-' * 100)\n",
        "\n",
        "print('Label Distributions: \\n')\n",
        "print(train_counts_label/ len(orig_ytrain))\n",
        "print(test_counts_label/ len(orig_ytest))"
      ],
      "execution_count": 0,
      "outputs": [
        {
          "output_type": "stream",
          "text": [
            "Train: [ 30473  30496  31002 ... 284804 284805 284806] Test: [    0     1     2 ... 57017 57018 57019]\n",
            "Train: [     0      1      2 ... 284804 284805 284806] Test: [ 30473  30496  31002 ... 113964 113965 113966]\n",
            "Train: [     0      1      2 ... 284804 284805 284806] Test: [ 81609  82400  83053 ... 170946 170947 170948]\n",
            "Train: [     0      1      2 ... 284804 284805 284806] Test: [150654 150660 150661 ... 227866 227867 227868]\n",
            "Train: [     0      1      2 ... 227866 227867 227868] Test: [212516 212644 213092 ... 284804 284805 284806]\n",
            "----------------------------------------------------------------------------------------------------\n",
            "Label Distributions: \n",
            "\n",
            "[0.99827076 0.00172924]\n",
            "[0.99827952 0.00172048]\n"
          ],
          "name": "stdout"
        }
      ]
    },
    {
      "cell_type": "markdown",
      "metadata": {
        "id": "ilEOxIwwPpv9",
        "colab_type": "text"
      },
      "source": [
        "## Random Undersampling before cross validation(Create undersample df)"
      ]
    },
    {
      "cell_type": "code",
      "metadata": {
        "id": "WP4kALIPcRQx",
        "colab_type": "code",
        "outputId": "bbaa9a15-6d26-4cba-9075-9aced234533c",
        "colab": {
          "base_uri": "https://localhost:8080/",
          "height": 316
        }
      },
      "source": [
        "#Random Undersampling (OVERFIT)\n",
        "\n",
        "#Shuffle\n",
        "df = df.sample(frac=1)\n",
        "#Extract all fraud rows from shuffled df\n",
        "fraud_df = df[df['Class']==1]\n",
        "#Extract 492 non fraud rows from  shuffled df\n",
        "noFraud_df = df[df['Class']==0][:len(fraud_df)]\n",
        "\n",
        "underSample_df =  pd.concat([fraud_df, noFraud_df])\n",
        "\n",
        "#Re-shuffle to mix fraud and non fraud rows\n",
        "\n",
        "underSample_df = underSample_df.sample(frac=1)\n",
        "\n",
        "print('No Frauds', round(underSample_df['Class'].value_counts()[0]/len(underSample_df) * 100,2), '% of the undersampled dataset')\n",
        "print('Frauds', round(underSample_df['Class'].value_counts()[1]/len(underSample_df) * 100,2), '% of the undersampled dataset')\n",
        "\n",
        "#Count classes\n",
        "underSample_counts = underSample_df['Class'].value_counts()\n",
        "labels = ('No Fraud','Fraud')\n",
        "y_pos = np.arange(len(labels))\n",
        "# Plotting class bar graph\n",
        "barlist = plt.bar(y_pos, underSample_counts, align='center', alpha=0.5)\n",
        "barlist[1].set_color('r')\n",
        "plt.xticks(y_pos, labels)\n",
        "plt.ylabel('Counts')\n",
        "plt.title('Undersampled No Fraud and Fraud Case Counts')\n",
        "\n",
        "plt.show()"
      ],
      "execution_count": 0,
      "outputs": [
        {
          "output_type": "stream",
          "text": [
            "No Frauds 50.0 % of the undersampled dataset\n",
            "Frauds 50.0 % of the undersampled dataset\n"
          ],
          "name": "stdout"
        },
        {
          "output_type": "display_data",
          "data": {
            "image/png": "[encoded data removed]",
            "text/plain": [
              "<Figure size 432x288 with 1 Axes>"
            ]
          },
          "metadata": {
            "tags": []
          }
        }
      ]
    },
    {
      "cell_type": "code",
      "metadata": {
        "id": "cgzJzQQWqwuO",
        "colab_type": "code",
        "outputId": "86d660a0-639c-4aa4-9871-8dce3bfeff68",
        "colab": {
          "base_uri": "https://localhost:8080/",
          "height": 70
        }
      },
      "source": [
        "underSample_counts"
      ],
      "execution_count": 0,
      "outputs": [
        {
          "output_type": "execute_result",
          "data": {
            "text/plain": [
              "1    492\n",
              "0    492\n",
              "Name: Class, dtype: int64"
            ]
          },
          "metadata": {
            "tags": []
          },
          "execution_count": 112
        }
      ]
    },
    {
      "cell_type": "markdown",
      "metadata": {
        "id": "G3ZFFAQzP07k",
        "colab_type": "text"
      },
      "source": [
        "## Sample some features from original df"
      ]
    },
    {
      "cell_type": "code",
      "metadata": {
        "id": "uGVB2Z1K9gIF",
        "colab_type": "code",
        "outputId": "aa5f3844-87f8-4706-986c-f8f7f9018cd2",
        "colab": {
          "base_uri": "https://localhost:8080/",
          "height": 407
        }
      },
      "source": [
        "from scipy.stats import norm\n",
        "\n",
        "f, (ax1, ax2, ax3) = plt.subplots(1,3, figsize=(20, 6))\n",
        "\n",
        "v18_fraud_dist = df['V18'].loc[df['Class'] == 1].values\n",
        "sns.distplot(v18_fraud_dist,ax=ax1, fit=norm, color='#F4CAE4')\n",
        "ax1.set_title('v18 Distribution \\n (Fraud Transactions)', fontsize=14)\n",
        "\n",
        "v15_fraud_dist = df['V15'].loc[df['Class'] == 1].values\n",
        "sns.distplot(v15_fraud_dist,ax=ax2, fit=norm, color='#CBD5E8')\n",
        "ax2.set_title('v15 Distribution \\n (Fraud Transactions)', fontsize=14)\n",
        "\n",
        "\n",
        "v8_fraud_dist = df['V8'].loc[df['Class'] == 1].values\n",
        "sns.distplot(v8_fraud_dist,ax=ax3, fit=norm, color='#FFF2AE')\n",
        "ax3.set_title('v8 Distribution \\n (Fraud Transactions)', fontsize=14)\n",
        "\n",
        "plt.show()"
      ],
      "execution_count": 0,
      "outputs": [
        {
          "output_type": "display_data",
          "data": {
            "image/png": "[encoded data removed]",
            "text/plain": [
              "<Figure size 1440x432 with 3 Axes>"
            ]
          },
          "metadata": {
            "tags": []
          }
        }
      ]
    },
    {
      "cell_type": "markdown",
      "metadata": {
        "id": "2byXf1y0P67r",
        "colab_type": "text"
      },
      "source": [
        "## Train test split of undersample df"
      ]
    },
    {
      "cell_type": "code",
      "metadata": {
        "id": "ubPCirwnNVdv",
        "colab_type": "code",
        "colab": {}
      },
      "source": [
        "X = underSample_df.drop('Class',axis=1)\n",
        "y = underSample_df['Class']\n",
        "\n",
        "X_train, X_test, y_train, y_test = train_test_split(X, y, test_size=0.2, random_state=0)\n",
        "X_train = X_train.values\n",
        "X_test = X_test.values\n",
        "y_train = y_train.values\n",
        "y_test = y_test.values\n",
        "\n"
      ],
      "execution_count": 0,
      "outputs": []
    },
    {
      "cell_type": "code",
      "metadata": {
        "id": "UpsXs0a8b9m8",
        "colab_type": "code",
        "outputId": "6ea10876-cf2f-4f2c-cf5a-73c84fcb1f18",
        "colab": {
          "base_uri": "https://localhost:8080/",
          "height": 123
        }
      },
      "source": [
        "print(X_train.shape)\n",
        "print(X_test.shape)\n",
        "print(y_train.shape)\n",
        "print(y_test.shape)\n",
        "print(fraud_df.shape)\n",
        "print(underSample_df.shape)"
      ],
      "execution_count": 0,
      "outputs": [
        {
          "output_type": "stream",
          "text": [
            "(787, 30)\n",
            "(197, 30)\n",
            "(787,)\n",
            "(197,)\n",
            "(492, 31)\n",
            "(984, 31)\n"
          ],
          "name": "stdout"
        }
      ]
    },
    {
      "cell_type": "markdown",
      "metadata": {
        "id": "ng-Lg930ZXw9",
        "colab_type": "text"
      },
      "source": [
        "# Undersampling"
      ]
    },
    {
      "cell_type": "markdown",
      "metadata": {
        "id": "oKeoudu8P_3r",
        "colab_type": "text"
      },
      "source": [
        "## Find best hyperparameter with GridSearchCV\n",
        "Because Random Forest take a long time to run GridSearchCV, the saved best estimator for Random Forest is in the next cell named forest_backup"
      ]
    },
    {
      "cell_type": "code",
      "metadata": {
        "id": "4gdVV-3NT6gi",
        "colab_type": "code",
        "outputId": "bcc8be5b-30f4-4d95-955c-6e6acd073b6e",
        "colab": {
          "base_uri": "https://localhost:8080/",
          "height": 52
        }
      },
      "source": [
        "# Hyperparameter Tuning for each of 3 classifers Using GridSearchCV \n",
        "from sklearn.model_selection import GridSearchCV\n",
        "\n",
        "# Support Vector Classifier\n",
        "print(\"Support Vector Classifier\")\n",
        "svc_params = {'C': [0.5, 0.7, 0.9, 1], 'kernel': ['rbf', 'poly', 'sigmoid', 'linear']}\n",
        "grid_svc = GridSearchCV(SVC(), svc_params)\n",
        "grid_svc.fit(X_train, y_train)\n",
        "\n",
        "# SVC best estimator\n",
        "svc_reg = grid_svc.best_estimator_\n",
        "\n",
        "\n",
        "# Simple Logistic Regression \n",
        "print(\"Logistic regression\")\n",
        "logistic_params = {\"penalty\": ['l1', 'l2'], 'C': [0.001, 0.01, 0.1, 1, 10, 100, 1000]}\n",
        "grid_logistic = GridSearchCV(LogisticRegression(), logistic_params)\n",
        "grid_logistic.fit(X_train, y_train)\n",
        "# We automatically get the logistic regression with the best parameters.\n",
        "logistic_reg = grid_logistic.best_estimator_\n",
        "\n",
        "# # Random Forest\n",
        "# print(\"Random forest\")\n",
        "# # Number of trees in random forest\n",
        "# n_estimators = [int(x) for x in np.linspace(start = 200, stop = 1000, num = 5)]\n",
        "# # Number of features to consider at every split\n",
        "# max_features = ['auto', 'sqrt']\n",
        "# # Maximum number of levels in tree\n",
        "# max_depth = [int(x) for x in np.linspace(10, 80, num = 5)]\n",
        "# max_depth.append(None)\n",
        "# # Minimum number of samples required to split a node\n",
        "# min_samples_split = [2, 5, 10]\n",
        "# # Minimum number of samples required at each leaf node\n",
        "# min_samples_leaf = [1, 2, 4]\n",
        "# # Method of selecting samples for training each tree\n",
        "# bootstrap = [True, False]\n",
        "\n",
        "# Create the random grid\n",
        "# forest_params = {'n_estimators': n_estimators,\n",
        "#                'max_features': max_features,\n",
        "#                'max_depth': max_depth,\n",
        "#                'min_samples_split': min_samples_split,\n",
        "#                'min_samples_leaf': min_samples_leaf,\n",
        "#                'bootstrap': bootstrap}\n",
        "\n",
        "# grid_forest = GridSearchCV(RandomForestClassifier(), forest_params)\n",
        "# grid_forest.fit(X_train, y_train)\n",
        "\n",
        "# # Random forest best estimator\n",
        "# forest = grid_forest.best_estimator_\n"
      ],
      "execution_count": 0,
      "outputs": [
        {
          "output_type": "stream",
          "text": [
            "Support Vector Classifier\n",
            "Logistic regression\n"
          ],
          "name": "stdout"
        }
      ]
    },
    {
      "cell_type": "markdown",
      "metadata": {
        "id": "s04bi-0jQF0-",
        "colab_type": "text"
      },
      "source": [
        "## Saved result for random forest grid search"
      ]
    },
    {
      "cell_type": "code",
      "metadata": {
        "id": "-j2nHoHA1ZdH",
        "colab_type": "code",
        "colab": {}
      },
      "source": [
        "# #result from random forest hyper parameter\n",
        "# forest_backup=RandomForestClassifier(bootstrap=False, class_weight=None, criterion='gini',\n",
        "#                        max_depth=10, max_features='auto', max_leaf_nodes=None,\n",
        "#                        min_impurity_decrease=0.0, min_impurity_split=None,\n",
        "#                        min_samples_leaf=1, min_samples_split=5,\n",
        "#                        min_weight_fraction_leaf=0.0, n_estimators=200,\n",
        "#                        n_jobs=None, oob_score=False, random_state=None,\n",
        "#                        verbose=0, warm_start=False)"
      ],
      "execution_count": 0,
      "outputs": []
    },
    {
      "cell_type": "markdown",
      "metadata": {
        "id": "gGaXi7EXjvhi",
        "colab_type": "text"
      },
      "source": [
        "## Undersampling for Logistic Regression\n"
      ]
    },
    {
      "cell_type": "code",
      "metadata": {
        "id": "5vrU075IY5ST",
        "colab_type": "code",
        "outputId": "6b84c131-a9f1-4c78-d136-b838ee1618bc",
        "colab": {
          "base_uri": "https://localhost:8080/",
          "height": 123
        }
      },
      "source": [
        "# #Train-test split of ORIGINAL DF\n",
        "underSample_X = df.drop('Class',axis=1)\n",
        "underSample_y = df['Class']\n",
        "\n",
        "\n",
        "skf = StratifiedKFold(n_splits=5, random_state=None, shuffle=False)\n",
        "for train_ind, test_ind in skf.split(underSample_X, underSample_y):\n",
        "    print(\"Train:\", train_ind, \"Test:\", test_ind)\n",
        "    underSample_Xtrain, underSample_Xtest = underSample_X.iloc[train_ind], underSample_X.iloc[test_ind]\n",
        "    underSample_ytrain, underSample_ytest = underSample_y.iloc[train_ind], underSample_y.iloc[test_ind]\n",
        "\n",
        "underSample_Xtrain = underSample_Xtrain.values\n",
        "underSample_Xtest = underSample_Xtest.values\n",
        "underSample_ytrain = underSample_ytrain.values\n",
        "underSample_ytest = underSample_ytest.values\n",
        "\n",
        "underSample_accuracy_log = []\n",
        "underSample_precision_log = []\n",
        "underSample_recall_log = []\n",
        "underSample_auc_log = []\n",
        "underSample_f1_log = []\n",
        "\n",
        "#NearMiss\n",
        "X_nearmiss, y_nearmiss = NearMiss().fit_sample(underSample_X.values, underSample_y.values)\n",
        "print('NearMiss Label Distribution: {}'.format(Counter(y_nearmiss)))\n",
        "\n",
        "\n",
        "#under sample during cross validation\n",
        "for train, test in skf.split(underSample_Xtrain,underSample_ytrain):\n",
        "  underSample_pipeline_log = imbalanced_make_pipeline(NearMiss(sampling_strategy='majority'),logistic_reg)\n",
        "\n",
        "  underSample_model_log = underSample_pipeline_log.fit(underSample_Xtrain[train], underSample_ytrain[train])\n",
        "\n",
        "  underSample_prediction_log = underSample_model_log.predict(underSample_Xtrain[test])\n",
        "\n",
        "  underSample_accuracy_log.append(underSample_pipeline_log.score(orig_Xtrain[test], orig_ytrain[test]))\n",
        "  underSample_precision_log.append(precision_score(orig_ytrain[test], underSample_prediction_log))\n",
        "  underSample_recall_log.append(recall_score(orig_ytrain[test], underSample_prediction_log))\n",
        "  underSample_f1_log.append(f1_score(orig_ytrain[test], underSample_prediction_log))\n",
        "  underSample_auc_log.append(roc_auc_score(orig_ytrain[test], underSample_prediction_log))"
      ],
      "execution_count": 0,
      "outputs": [
        {
          "output_type": "stream",
          "text": [
            "Train: [ 56956  56957  56958 ... 284804 284805 284806] Test: [    0     1     2 ... 59012 59492 60069]\n",
            "Train: [     0      1      2 ... 284804 284805 284806] Test: [ 56956  56957  56958 ... 113929 113930 113931]\n",
            "Train: [     0      1      2 ... 284804 284805 284806] Test: [109152 109336 109634 ... 172201 172387 173710]\n",
            "Train: [     0      1      2 ... 284804 284805 284806] Test: [170882 170883 170884 ... 230526 230965 231041]\n",
            "Train: [     0      1      2 ... 230526 230965 231041] Test: [227837 227838 227839 ... 284804 284805 284806]\n",
            "NearMiss Label Distribution: Counter({0: 492, 1: 492})\n"
          ],
          "name": "stdout"
        }
      ]
    },
    {
      "cell_type": "code",
      "metadata": {
        "id": "SWBJPgWJY72x",
        "colab_type": "code",
        "outputId": "76b4b21a-abb7-4e1e-cdb2-b6bacfdac375",
        "colab": {
          "base_uri": "https://localhost:8080/",
          "height": 141
        }
      },
      "source": [
        "print(\"Logistic Regression: \")\n",
        "print('---' * 45)\n",
        "print(\"Accuracy Score: {:.2f}\".format(np.mean(underSample_accuracy_log)))\n",
        "print(\"Precision Score: {:.2f}\".format(np.mean(underSample_precision_log)))\n",
        "print(\"Recall Score: {:.2f}\".format(np.mean(underSample_recall_log)))\n",
        "print(\"F1 Score: {:.2f}\".format(np.mean(underSample_f1_log)))\n",
        "print('---' * 45)"
      ],
      "execution_count": 0,
      "outputs": [
        {
          "output_type": "stream",
          "text": [
            "Logistic Regression: \n",
            "---------------------------------------------------------------------------------------------------------------------------------------\n",
            "Accuracy Score: 0.50\n",
            "Precision Score: 0.00\n",
            "Recall Score: 0.47\n",
            "F1 Score: 0.00\n",
            "---------------------------------------------------------------------------------------------------------------------------------------\n"
          ],
          "name": "stdout"
        }
      ]
    },
    {
      "cell_type": "code",
      "metadata": {
        "id": "aNpf4zj3oIaA",
        "colab_type": "code",
        "outputId": "38234bf7-a859-437f-8117-047910a7e756",
        "colab": {
          "base_uri": "https://localhost:8080/",
          "height": 458
        }
      },
      "source": [
        "from sklearn.metrics import average_precision_score\n",
        "\n",
        "from sklearn.metrics import precision_recall_curve\n",
        "import matplotlib.pyplot as plt\n",
        "\n",
        "undersample_yscore_log = logistic_reg.decision_function(orig_Xtest)\n",
        "\n",
        "undersample_average_precision_log = average_precision_score(orig_ytest, undersample_yscore_log)\n",
        "\n",
        "print('Average precision-recall score Logistic Regression: {0:0.2f}'.format(\n",
        "      undersample_average_precision_log))\n",
        "\n",
        "fig = plt.figure(figsize=(12,6))\n",
        "\n",
        "precision_log, recall_log, _ = precision_recall_curve(orig_ytest, undersample_yscore_log)\n",
        "\n",
        "plt.step(recall_log, precision_log, color='#004a93', alpha=0.2,\n",
        "         where='post')\n",
        "plt.fill_between(recall_log, precision_log, step='post', alpha=0.2,\n",
        "                 color='#48a6ff')\n",
        "\n",
        "plt.xlabel('Recall')\n",
        "plt.ylabel('Precision')\n",
        "plt.ylim([0.0, 1.05])\n",
        "plt.xlim([0.0, 1.0])\n",
        "plt.title('UnderSampling Precision-Recall curve for Logistic Regression: \\n Average Precision-Recall Score ={0:0.2f}'.format(\n",
        "          undersample_average_precision_log), fontsize=16)"
      ],
      "execution_count": 0,
      "outputs": [
        {
          "output_type": "stream",
          "text": [
            "Average precision-recall score Logistic Regression: 0.06\n"
          ],
          "name": "stdout"
        },
        {
          "output_type": "execute_result",
          "data": {
            "text/plain": [
              "Text(0.5, 1.0, 'UnderSampling Precision-Recall curve for Logistic Regression: \\n Average Precision-Recall Score =0.06')"
            ]
          },
          "metadata": {
            "tags": []
          },
          "execution_count": 120
        },
        {
          "output_type": "display_data",
          "data": {
            "image/png": "[encoded data removed]",
            "text/plain": [
              "<Figure size 864x432 with 1 Axes>"
            ]
          },
          "metadata": {
            "tags": []
          }
        }
      ]
    },
    {
      "cell_type": "markdown",
      "metadata": {
        "id": "x9T9mDivsC_X",
        "colab_type": "text"
      },
      "source": [
        "## Undersampling Logistic Regression Confusion Matrix"
      ]
    },
    {
      "cell_type": "code",
      "metadata": {
        "id": "A2xc6IKMsNxm",
        "colab_type": "code",
        "outputId": "ba6a1a1c-0a63-4c44-a333-1c5272db5a50",
        "colab": {
          "base_uri": "https://localhost:8080/",
          "height": 455
        }
      },
      "source": [
        "y_pred_log_reg_und = logistic_reg.predict(orig_Xtest)\n",
        "log_reg_cf_und = confusion_matrix(orig_ytest, y_pred_log_reg_und)\n",
        "actual_cm_und = confusion_matrix(orig_ytest, orig_ytest)\n",
        "labels = ['No Fraud', 'Fraud']\n",
        "\n",
        "fig = plt.figure(figsize=(16,8))\n",
        "\n",
        "fig.add_subplot(221)\n",
        "plot_confusion_matrix(log_reg_cf_und, labels, title=\"Logistic Regression Undersampling \\n Confusion Matrix\", cmap=plt.cm.Reds)\n",
        "\n",
        "fig.add_subplot(222)\n",
        "plot_confusion_matrix(actual_cm_und, labels, title=\"Confusion Matrix \\n (with 100% accuracy)\", cmap=plt.cm.Greens)"
      ],
      "execution_count": 0,
      "outputs": [
        {
          "output_type": "stream",
          "text": [
            "Confusion matrix, without normalization\n",
            "[[33261 23602]\n",
            " [    8    90]]\n",
            "Confusion matrix, without normalization\n",
            "[[56863     0]\n",
            " [    0    98]]\n"
          ],
          "name": "stdout"
        },
        {
          "output_type": "display_data",
          "data": {
            "image/png": "[encoded data removed]",
            "text/plain": [
              "<Figure size 1152x576 with 4 Axes>"
            ]
          },
          "metadata": {
            "tags": []
          }
        }
      ]
    },
    {
      "cell_type": "markdown",
      "metadata": {
        "id": "NbpDCZ10kHIA",
        "colab_type": "text"
      },
      "source": [
        "## Undersampling for SVC"
      ]
    },
    {
      "cell_type": "code",
      "metadata": {
        "id": "ulaBhE6wkF_5",
        "colab_type": "code",
        "outputId": "6214f819-9315-49fe-fe98-ad22a99bce06",
        "colab": {
          "base_uri": "https://localhost:8080/",
          "height": 35
        }
      },
      "source": [
        "underSample_accuracy_svc = []\n",
        "underSample_precision_svc = []\n",
        "underSample_recall_svc = []\n",
        "underSample_auc_svc = []\n",
        "underSample_f1_svc = []\n",
        "\n",
        "#NearMiss\n",
        "X_nearmiss, y_nearmiss = NearMiss().fit_sample(underSample_X.values, underSample_y.values)\n",
        "print('NearMiss Label Distribution: {}'.format(Counter(y_nearmiss)))\n",
        "\n",
        "\n",
        "#under sample during cross validation\n",
        "for train, test in skf.split(underSample_Xtrain,underSample_ytrain):\n",
        "  underSample_pipeline_svc = imbalanced_make_pipeline(NearMiss(sampling_strategy='majority'),svc_reg)\n",
        "\n",
        "  underSample_model_svc = underSample_pipeline_svc.fit(underSample_Xtrain[train], underSample_ytrain[train])\n",
        "\n",
        "  underSample_prediction_svc = underSample_model_svc.predict(underSample_Xtrain[test])\n",
        "\n",
        "  underSample_accuracy_svc.append(underSample_pipeline_svc.score(orig_Xtrain[test], orig_ytrain[test]))\n",
        "  underSample_precision_svc.append(precision_score(orig_ytrain[test], underSample_prediction_svc))\n",
        "  underSample_recall_svc.append(recall_score(orig_ytrain[test], underSample_prediction_svc))\n",
        "  underSample_f1_svc.append(f1_score(orig_ytrain[test], underSample_prediction_svc))\n",
        "  underSample_auc_svc.append(roc_auc_score(orig_ytrain[test], underSample_prediction_svc))"
      ],
      "execution_count": 0,
      "outputs": [
        {
          "output_type": "stream",
          "text": [
            "NearMiss Label Distribution: Counter({0: 492, 1: 492})\n"
          ],
          "name": "stdout"
        }
      ]
    },
    {
      "cell_type": "code",
      "metadata": {
        "id": "gH-xz26Ilb8N",
        "colab_type": "code",
        "outputId": "2ec720e8-2a01-4eba-859c-4c6c48c6c8bf",
        "colab": {
          "base_uri": "https://localhost:8080/",
          "height": 141
        }
      },
      "source": [
        "print(\"SVC: \")\n",
        "print('---' * 45)\n",
        "print(\"Accuracy Score: {:.2f}\".format(np.mean(underSample_accuracy_svc)))\n",
        "print(\"Precision Score: {:.2f}\".format(np.mean(underSample_precision_svc)))\n",
        "print(\"Recall Score: {:.2f}\".format(np.mean(underSample_recall_svc)))\n",
        "print(\"F1 Score: {:.2f}\".format(np.mean(underSample_f1_svc)))\n",
        "print('---' * 45)"
      ],
      "execution_count": 0,
      "outputs": [
        {
          "output_type": "stream",
          "text": [
            "SVC: \n",
            "---------------------------------------------------------------------------------------------------------------------------------------\n",
            "Accuracy Score: 0.42\n",
            "Precision Score: 0.00\n",
            "Recall Score: 0.60\n",
            "F1 Score: 0.00\n",
            "---------------------------------------------------------------------------------------------------------------------------------------\n"
          ],
          "name": "stdout"
        }
      ]
    },
    {
      "cell_type": "code",
      "metadata": {
        "id": "Ooypv8_inZ7z",
        "colab_type": "code",
        "outputId": "878427f5-dba7-4e7a-d8dc-a3d6858288de",
        "colab": {
          "base_uri": "https://localhost:8080/",
          "height": 494
        }
      },
      "source": [
        "undersample_yscore_svc = svc_reg.decision_function(orig_Xtest)\n",
        "print(undersample_yscore_svc)\n",
        "undersample_average_precision_svc = average_precision_score(orig_ytest, undersample_yscore_svc)\n",
        "\n",
        "print('Average precision-recall score SVC: {0:0.2f}'.format(\n",
        "      undersample_average_precision_svc))\n",
        "\n",
        "fig = plt.figure(figsize=(12,6))\n",
        "\n",
        "precision_svc, recall_svc, _ = precision_recall_curve(orig_ytest, undersample_yscore_svc)\n",
        "\n",
        "plt.step(recall_svc, precision_svc, color='#004a93', alpha=0.2,\n",
        "         where='post')\n",
        "plt.fill_between(recall_svc, precision_svc, step='post', alpha=0.2,\n",
        "                 color='#48a6ff')\n",
        "\n",
        "plt.xlabel('Recall')\n",
        "plt.ylabel('Precision')\n",
        "plt.ylim([0.0, 1.05])\n",
        "plt.xlim([0.0, 1.0])\n",
        "plt.title('UnderSampling Precision-Recall curve for SVC: \\n Average Precision-Recall Score ={0:0.2f}'.format(\n",
        "          undersample_average_precision_svc), fontsize=16)"
      ],
      "execution_count": 0,
      "outputs": [
        {
          "output_type": "stream",
          "text": [
            "[ 3.55677967  7.49739964  5.22283595 ... -1.72674189  1.34480871\n",
            "  1.68901171]\n",
            "Average precision-recall score SVC: 0.03\n"
          ],
          "name": "stdout"
        },
        {
          "output_type": "execute_result",
          "data": {
            "text/plain": [
              "Text(0.5, 1.0, 'UnderSampling Precision-Recall curve for SVC: \\n Average Precision-Recall Score =0.03')"
            ]
          },
          "metadata": {
            "tags": []
          },
          "execution_count": 124
        },
        {
          "output_type": "display_data",
          "data": {
            "image/png": "[encoded data removed]",
            "text/plain": [
              "<Figure size 864x432 with 1 Axes>"
            ]
          },
          "metadata": {
            "tags": []
          }
        }
      ]
    },
    {
      "cell_type": "markdown",
      "metadata": {
        "id": "VL74RkuNzmJL",
        "colab_type": "text"
      },
      "source": [
        "##  Undersampling SVC Confusion Matrix"
      ]
    },
    {
      "cell_type": "code",
      "metadata": {
        "id": "cENLoU9Wzlcj",
        "colab_type": "code",
        "outputId": "f8107eaa-ab07-48be-93fc-cc848e685f6e",
        "colab": {
          "base_uri": "https://localhost:8080/",
          "height": 455
        }
      },
      "source": [
        "y_pred_svc_reg_und = svc_reg.predict(orig_Xtest)\n",
        "svc_reg_cf_und = confusion_matrix(orig_ytest, y_pred_svc_reg_und)\n",
        "actual_cm_und_svc = confusion_matrix(orig_ytest, orig_ytest)\n",
        "labels = ['No Fraud', 'Fraud']\n",
        "\n",
        "fig = plt.figure(figsize=(16,8))\n",
        "\n",
        "fig.add_subplot(221)\n",
        "plot_confusion_matrix(svc_reg_cf_und, labels, title=\"SVC Undersampling \\n Confusion Matrix\", cmap=plt.cm.Reds)\n",
        "\n",
        "fig.add_subplot(222)\n",
        "plot_confusion_matrix(actual_cm_und_svc, labels, title=\"Confusion Matrix \\n (with 100% accuracy)\", cmap=plt.cm.Greens)"
      ],
      "execution_count": 0,
      "outputs": [
        {
          "output_type": "stream",
          "text": [
            "Confusion matrix, without normalization\n",
            "[[26909 29954]\n",
            " [    7    91]]\n",
            "Confusion matrix, without normalization\n",
            "[[56863     0]\n",
            " [    0    98]]\n"
          ],
          "name": "stdout"
        },
        {
          "output_type": "display_data",
          "data": {
            "image/png": "[encoded data removed]",
            "text/plain": [
              "<Figure size 1152x576 with 4 Axes>"
            ]
          },
          "metadata": {
            "tags": []
          }
        }
      ]
    },
    {
      "cell_type": "markdown",
      "metadata": {
        "id": "r8mSdk9Bl436",
        "colab_type": "text"
      },
      "source": [
        "## Undersampling for Random Forest"
      ]
    },
    {
      "cell_type": "code",
      "metadata": {
        "id": "pbEHtsx2l9C3",
        "colab_type": "code",
        "outputId": "fa661bec-b18c-4d06-df40-36d576935890",
        "colab": {
          "base_uri": "https://localhost:8080/",
          "height": 35
        }
      },
      "source": [
        "underSample_accuracy_rf = []\n",
        "underSample_precision_rf = []\n",
        "underSample_recall_rf = []\n",
        "underSample_auc_rf = []\n",
        "underSample_f1_rf = []\n",
        "\n",
        "#NearMiss\n",
        "X_nearmiss, y_nearmiss = NearMiss().fit_sample(underSample_X.values, underSample_y.values)\n",
        "print('NearMiss Label Distribution: {}'.format(Counter(y_nearmiss)))\n",
        "\n",
        "\n",
        "#under sample during cross validation\n",
        "for train, test in skf.split(underSample_Xtrain,underSample_ytrain):\n",
        "  underSample_pipeline_rf = imbalanced_make_pipeline(NearMiss(sampling_strategy='majority'),forest_backup)\n",
        "\n",
        "  underSample_model_rf = underSample_pipeline_rf.fit(underSample_Xtrain[train], underSample_ytrain[train])\n",
        "\n",
        "  underSample_prediction_rf = underSample_model_rf.predict(underSample_Xtrain[test])\n",
        "\n",
        "  underSample_accuracy_rf.append(underSample_pipeline_rf.score(orig_Xtrain[test], orig_ytrain[test]))\n",
        "  underSample_precision_rf.append(precision_score(orig_ytrain[test], underSample_prediction_rf))\n",
        "  underSample_recall_rf.append(recall_score(orig_ytrain[test], underSample_prediction_rf))\n",
        "  underSample_f1_rf.append(f1_score(orig_ytrain[test], underSample_prediction_rf))\n",
        "  underSample_auc_rf.append(roc_auc_score(orig_ytrain[test], underSample_prediction_rf))"
      ],
      "execution_count": 0,
      "outputs": [
        {
          "output_type": "stream",
          "text": [
            "NearMiss Label Distribution: Counter({0: 492, 1: 492})\n"
          ],
          "name": "stdout"
        }
      ]
    },
    {
      "cell_type": "code",
      "metadata": {
        "id": "LAojcnUtmQwl",
        "colab_type": "code",
        "outputId": "767080eb-ac27-42a0-b50d-012a5a954320",
        "colab": {
          "base_uri": "https://localhost:8080/",
          "height": 141
        }
      },
      "source": [
        "print(\"Random Forest: \")\n",
        "print('---' * 45)\n",
        "print(\"Accuracy Score: {:.2f}\".format(np.mean(underSample_accuracy_rf)))\n",
        "print(\"Precision Score: {:.2f}\".format(np.mean(underSample_precision_rf)))\n",
        "print(\"Recall Score: {:.2f}\".format(np.mean(underSample_recall_rf)))\n",
        "print(\"F1 Score: {:.2f}\".format(np.mean(underSample_f1_rf)))\n",
        "print('---' * 45)"
      ],
      "execution_count": 0,
      "outputs": [
        {
          "output_type": "stream",
          "text": [
            "Random Forest: \n",
            "---------------------------------------------------------------------------------------------------------------------------------------\n",
            "Accuracy Score: 0.04\n",
            "Precision Score: 0.00\n",
            "Recall Score: 0.95\n",
            "F1 Score: 0.00\n",
            "---------------------------------------------------------------------------------------------------------------------------------------\n"
          ],
          "name": "stdout"
        }
      ]
    },
    {
      "cell_type": "code",
      "metadata": {
        "id": "Nvk2ff4OnCDn",
        "colab_type": "code",
        "outputId": "d3d9212a-3ccb-4d9b-9d3c-4e58d5a21283",
        "colab": {
          "base_uri": "https://localhost:8080/",
          "height": 476
        }
      },
      "source": [
        "undersample_yscore_rf = forest_backup.predict_proba(orig_Xtest)[:,-1]\n",
        "print(undersample_yscore_rf)\n",
        "undersample_average_precision_rf = average_precision_score(orig_ytest, undersample_yscore_rf)\n",
        "\n",
        "print('Average precision-recall score Random Forest: {0:0.2f}'.format(\n",
        "      undersample_average_precision_rf))\n",
        "\n",
        "fig = plt.figure(figsize=(12,6))\n",
        "\n",
        "precision_rf, recall_rf, _ = precision_recall_curve(orig_ytest, undersample_yscore_rf)\n",
        "\n",
        "plt.step(recall_rf, precision_rf, color='#004a93', alpha=0.2,\n",
        "         where='post')\n",
        "plt.fill_between(recall_rf, precision_rf, step='post', alpha=0.2,\n",
        "                 color='#48a6ff')\n",
        "\n",
        "plt.xlabel('Recall')\n",
        "plt.ylabel('Precision')\n",
        "plt.ylim([0.0, 1.05])\n",
        "plt.xlim([0.0, 1.0])\n",
        "plt.title('UnderSampling Precision-Recall curve for Random Forest: \\n Average Precision-Recall Score ={0:0.2f}'.format(\n",
        "          undersample_average_precision_rf), fontsize=16)"
      ],
      "execution_count": 0,
      "outputs": [
        {
          "output_type": "stream",
          "text": [
            "[1.         1.         0.99583333 ... 0.60127591 0.94112361 0.94416667]\n",
            "Average precision-recall score Random Forest: 0.78\n"
          ],
          "name": "stdout"
        },
        {
          "output_type": "execute_result",
          "data": {
            "text/plain": [
              "Text(0.5, 1.0, 'UnderSampling Precision-Recall curve for Random Forest: \\n Average Precision-Recall Score =0.78')"
            ]
          },
          "metadata": {
            "tags": []
          },
          "execution_count": 128
        },
        {
          "output_type": "display_data",
          "data": {
            "image/png": "[encoded data removed]",
            "text/plain": [
              "<Figure size 864x432 with 1 Axes>"
            ]
          },
          "metadata": {
            "tags": []
          }
        }
      ]
    },
    {
      "cell_type": "markdown",
      "metadata": {
        "id": "AbEV1qQU0S6p",
        "colab_type": "text"
      },
      "source": [
        "## Undersampling Random Forest Confusion Matrix"
      ]
    },
    {
      "cell_type": "code",
      "metadata": {
        "id": "-qOoGT1Il2xg",
        "colab_type": "code",
        "outputId": "d299204c-0b24-40a4-eaa7-9bd71d7d6d2c",
        "colab": {
          "base_uri": "https://localhost:8080/",
          "height": 455
        }
      },
      "source": [
        "y_pred_rf_reg_und = forest_backup.predict(orig_Xtest)\n",
        "rf_reg_cf_und = confusion_matrix(orig_ytest, y_pred_rf_reg_und)\n",
        "actual_cm_und_rf = confusion_matrix(orig_ytest, orig_ytest)\n",
        "labels = ['No Fraud', 'Fraud']\n",
        "\n",
        "fig = plt.figure(figsize=(16,8))\n",
        "\n",
        "fig.add_subplot(221)\n",
        "plot_confusion_matrix(rf_reg_cf_und, labels, title=\"Random Forest Undersampling \\n Confusion Matrix\", cmap=plt.cm.Reds)\n",
        "\n",
        "fig.add_subplot(222)\n",
        "plot_confusion_matrix(actual_cm_und_rf, labels, title=\"Confusion Matrix \\n (with 100% accuracy)\", cmap=plt.cm.Greens)"
      ],
      "execution_count": 0,
      "outputs": [
        {
          "output_type": "stream",
          "text": [
            "Confusion matrix, without normalization\n",
            "[[ 4057 52806]\n",
            " [    1    97]]\n",
            "Confusion matrix, without normalization\n",
            "[[56863     0]\n",
            " [    0    98]]\n"
          ],
          "name": "stdout"
        },
        {
          "output_type": "display_data",
          "data": {
            "image/png": "[encoded data removed]",
            "text/plain": [
              "<Figure size 1152x576 with 4 Axes>"
            ]
          },
          "metadata": {
            "tags": []
          }
        }
      ]
    },
    {
      "cell_type": "code",
      "metadata": {
        "id": "QRS5edfkf0lK",
        "colab_type": "code",
        "colab": {}
      },
      "source": [
        "svc_fpr, svc_tpr, svc_threshold = roc_curve(orig_ytest, undersample_yscore_svc)\n",
        "logistic_fpr, logistic_tpr, logistic_thresold = roc_curve(orig_ytest, undersample_yscore_log)\n",
        "forest_fpr, forest_tpr, forest_threshold = roc_curve(orig_ytest, undersample_yscore_rf)\n",
        "\n",
        "\n",
        "def graph_roc_curve_multiple(logistic_fpr, logistic_tpr, svc_fpr, svc_tpr, forest_fpr, forest_tpr):\n",
        "    plt.figure(figsize=(12,8))\n",
        "    plt.title('ROC Curve of 3 Classifiers', fontsize=18)\n",
        "    plt.plot(logistic_fpr, logistic_tpr, color='green',label='Logistic Regression Classifier Score: {:.4f}'.format(roc_auc_score(orig_ytest, undersample_yscore_log)))\n",
        "    plt.plot(svc_fpr, svc_tpr, color='red', label='Support Vector Classifier Score: {:.4f}'.format(roc_auc_score(orig_ytest, undersample_yscore_svc)))\n",
        "    plt.plot(forest_fpr, forest_tpr, color='blue', label='Random Forest Classifier Score: {:.4f}'.format(roc_auc_score(orig_ytest, undersample_yscore_rf)))\n",
        "    plt.plot([0, 1], [0, 1], 'k--')\n",
        "    plt.axis([-0.01, 1, 0, 1])\n",
        "    plt.xlabel('False Positive Rate', fontsize=16)\n",
        "    plt.ylabel('True Positive Rate', fontsize=16)\n",
        "    # plt.annotate('Minimum ROC Score of 50%', xy=(0.5, 0.5), xytext=(0.6, 0.3),\n",
        "    #             arrowprops=dict(facecolor='#6E726D', shrink=0.05),\n",
        "    #             )\n",
        "    plt.legend()\n",
        "    \n",
        "graph_roc_curve_multiple(logistic_fpr, logistic_tpr, svc_fpr, svc_tpr, forest_fpr, forest_tpr)\n",
        "plt.show()"
      ],
      "execution_count": 0,
      "outputs": []
    },
    {
      "cell_type": "markdown",
      "metadata": {
        "id": "z37Mw3VhWetn",
        "colab_type": "text"
      },
      "source": [
        "# Oversampling (SMOTE)"
      ]
    },
    {
      "cell_type": "markdown",
      "metadata": {
        "id": "76k08Tj9WnyZ",
        "colab_type": "text"
      },
      "source": [
        "## SMOTE for Logistic Regression"
      ]
    },
    {
      "cell_type": "code",
      "metadata": {
        "id": "FQDRNV71kthJ",
        "colab_type": "code",
        "outputId": "2bdaf70c-03a1-45f3-fded-1e8f0d325495",
        "colab": {
          "base_uri": "https://localhost:8080/",
          "height": 195
        }
      },
      "source": [
        "from sklearn.model_selection import train_test_split, RandomizedSearchCV\n",
        "\n",
        "\n",
        "print('Length of X (train): {} | Length of y (train): {}'.format(len(original_Xtrain), len(original_ytrain)))\n",
        "print('Length of X (test): {} | Length of y (test): {}'.format(len(original_Xtest), len(original_ytest)))\n",
        "\n",
        "# List to append the score and then find the average\n",
        "accuracy_lst = []\n",
        "precision_lst = []\n",
        "recall_lst = []\n",
        "f1_lst = []\n",
        "auc_lst = []\n",
        "\n",
        "\n",
        "#Logistic Regression\n",
        "log_reg_params = {\"penalty\": ['l1', 'l2'], 'C': [0.001, 0.01, 0.1, 1, 10, 100, 1000]}\n",
        "rand_log_reg = RandomizedSearchCV(LogisticRegression(), log_reg_params, n_iter=4)\n",
        "print(\"Logistic Regression\")\n",
        "\n",
        "# Implementing SMOTE Technique \n",
        "# Cross Validating the right way\n",
        "for train, test in sss.split(original_Xtrain, original_ytrain):\n",
        "    pipeline = imbalanced_make_pipeline(SMOTE(sampling_strategy='minority'), rand_log_reg) # SMOTE happens during Cross Validation not before..\n",
        "    model = pipeline.fit(original_Xtrain[train], original_ytrain[train])\n",
        "    best_est = rand_log_reg.best_estimator_\n",
        "    prediction = best_est.predict(original_Xtrain[test])\n",
        "    \n",
        "    accuracy_lst.append(pipeline.score(original_Xtrain[test], original_ytrain[test]))\n",
        "    precision_lst.append(precision_score(original_ytrain[test], prediction))\n",
        "    recall_lst.append(recall_score(original_ytrain[test], prediction))\n",
        "    f1_lst.append(f1_score(original_ytrain[test], prediction))\n",
        "    auc_lst.append(roc_auc_score(original_ytrain[test], prediction))\n",
        "    \n",
        "print('---' * 45)\n",
        "print('')\n",
        "print(\"accuracy: {}\".format(np.mean(accuracy_lst)))\n",
        "print(\"precision: {}\".format(np.mean(precision_lst)))\n",
        "print(\"recall: {}\".format(np.mean(recall_lst)))\n",
        "print(\"f1: {}\".format(np.mean(f1_lst)))\n",
        "print('---' * 45)"
      ],
      "execution_count": 0,
      "outputs": [
        {
          "output_type": "stream",
          "text": [
            "Length of X (train): 227846 | Length of y (train): 227846\n",
            "Length of X (test): 56961 | Length of y (test): 56961\n",
            "Logistic Regression\n",
            "---------------------------------------------------------------------------------------------------------------------------------------\n",
            "\n",
            "accuracy: 0.9437915535781884\n",
            "precision: 0.054607379446459645\n",
            "recall: 0.9111002921129504\n",
            "f1: 0.10157404061330857\n",
            "---------------------------------------------------------------------------------------------------------------------------------------\n"
          ],
          "name": "stdout"
        }
      ]
    },
    {
      "cell_type": "code",
      "metadata": {
        "id": "sMIilJdBwqi8",
        "colab_type": "code",
        "outputId": "4254ae3b-0a9a-44ab-a023-05c0edd1127b",
        "colab": {
          "base_uri": "https://localhost:8080/",
          "height": 177
        }
      },
      "source": [
        "labels = ['No Fraud', 'Fraud']\n",
        "smote_prediction = best_est.predict(original_Xtest)\n",
        "print(classification_report(original_ytest, smote_prediction, target_names=labels))"
      ],
      "execution_count": 0,
      "outputs": [
        {
          "output_type": "stream",
          "text": [
            "              precision    recall  f1-score   support\n",
            "\n",
            "    No Fraud       1.00      0.98      0.99     56863\n",
            "       Fraud       0.06      0.87      0.11        98\n",
            "\n",
            "    accuracy                           0.98     56961\n",
            "   macro avg       0.53      0.92      0.55     56961\n",
            "weighted avg       1.00      0.98      0.99     56961\n",
            "\n"
          ],
          "name": "stdout"
        }
      ]
    },
    {
      "cell_type": "code",
      "metadata": {
        "id": "C576oti_JpwL",
        "colab_type": "code",
        "outputId": "2a3e20ee-09fc-4ee4-e2b4-70e902abbde6",
        "colab": {
          "base_uri": "https://localhost:8080/",
          "height": 458
        }
      },
      "source": [
        "from sklearn.metrics import average_precision_score\n",
        "from sklearn.metrics import precision_recall_curve\n",
        "import matplotlib.pyplot as plt\n",
        "\n",
        "y_score = best_est.decision_function(original_Xtest)\n",
        "average_precision = average_precision_score(original_ytest, y_score)\n",
        "\n",
        "print('Average precision-recall score: {0:0.2f}'.format(\n",
        "      average_precision))\n",
        "\n",
        "fig = plt.figure(figsize=(12,6))\n",
        "\n",
        "precision, recall, _ = precision_recall_curve(original_ytest, y_score)\n",
        "\n",
        "plt.step(recall, precision, color='r', alpha=0.2,\n",
        "         where='post')\n",
        "plt.fill_between(recall, precision, step='post', alpha=0.2,\n",
        "                 color='#F59B00')\n",
        "\n",
        "plt.xlabel('Recall')\n",
        "plt.ylabel('Precision')\n",
        "plt.ylim([0.0, 1.05])\n",
        "plt.xlim([0.0, 1.0])\n",
        "plt.title('OverSampling Precision-Recall curve: \\n Average Precision-Recall Score ={0:0.2f}'.format(\n",
        "          average_precision), fontsize=16)"
      ],
      "execution_count": 0,
      "outputs": [
        {
          "output_type": "stream",
          "text": [
            "Average precision-recall score: 0.69\n"
          ],
          "name": "stdout"
        },
        {
          "output_type": "execute_result",
          "data": {
            "text/plain": [
              "Text(0.5, 1.0, 'OverSampling Precision-Recall curve: \\n Average Precision-Recall Score =0.69')"
            ]
          },
          "metadata": {
            "tags": []
          },
          "execution_count": 11
        },
        {
          "output_type": "display_data",
          "data": {
            "image/png": "[encoded data removed]",
            "text/plain": [
              "<Figure size 864x432 with 1 Axes>"
            ]
          },
          "metadata": {
            "tags": []
          }
        }
      ]
    },
    {
      "cell_type": "code",
      "metadata": {
        "id": "bc038va7PMzQ",
        "colab_type": "code",
        "colab": {}
      },
      "source": [
        "import itertools\n",
        "\n",
        "# Create a confusion matrix\n",
        "def plot_confusion_matrix(cm, classes,\n",
        "                          normalize=False,\n",
        "                          title='Confusion matrix',\n",
        "                          cmap=plt.cm.Blues):\n",
        "    \"\"\"\n",
        "    This function prints and plots the confusion matrix.\n",
        "    Normalization can be applied by setting `normalize=True`.\n",
        "    \"\"\"\n",
        "    if normalize:\n",
        "        cm = cm.astype('float') / cm.sum(axis=1)[:, np.newaxis]\n",
        "        print(\"Normalized confusion matrix\")\n",
        "    else:\n",
        "        print('Confusion matrix, without normalization')\n",
        "\n",
        "    print(cm)\n",
        "\n",
        "    plt.imshow(cm, interpolation='nearest', cmap=cmap)\n",
        "    plt.title(title, fontsize=14)\n",
        "    plt.colorbar()\n",
        "    tick_marks = np.arange(len(classes))\n",
        "    plt.xticks(tick_marks, classes, rotation=45)\n",
        "    plt.yticks(tick_marks, classes)\n",
        "\n",
        "    fmt = '.2f' if normalize else 'd'\n",
        "    thresh = cm.max() / 2.\n",
        "    for i, j in itertools.product(range(cm.shape[0]), range(cm.shape[1])):\n",
        "        plt.text(j, i, format(cm[i, j], fmt),\n",
        "                 horizontalalignment=\"center\",\n",
        "                 color=\"white\" if cm[i, j] > thresh else \"black\")\n",
        "\n",
        "    plt.tight_layout()\n",
        "    plt.ylabel('True label')\n",
        "    plt.xlabel('Predicted label')"
      ],
      "execution_count": 0,
      "outputs": []
    },
    {
      "cell_type": "code",
      "metadata": {
        "id": "Qwyfo79oOps3",
        "colab_type": "code",
        "outputId": "d46c8660-41ba-469a-c905-764dec6e9677",
        "colab": {
          "base_uri": "https://localhost:8080/",
          "height": 455
        }
      },
      "source": [
        "y_pred_log_reg = best_est.predict(original_Xtest)\n",
        "log_reg_cf = confusion_matrix(original_ytest, y_pred_log_reg)\n",
        "actual_cm = confusion_matrix(original_ytest, original_ytest)\n",
        "labels = ['No Fraud', 'Fraud']\n",
        "\n",
        "fig = plt.figure(figsize=(16,8))\n",
        "\n",
        "fig.add_subplot(221)\n",
        "plot_confusion_matrix(log_reg_cf, labels, title=\"Logistic Regression SMOTE \\n Confusion Matrix\", cmap=plt.cm.Reds)\n",
        "\n",
        "fig.add_subplot(222)\n",
        "plot_confusion_matrix(actual_cm, labels, title=\"Confusion Matrix \\n (with 100% accuracy)\", cmap=plt.cm.Greens)"
      ],
      "execution_count": 0,
      "outputs": [
        {
          "output_type": "stream",
          "text": [
            "Confusion matrix, without normalization\n",
            "[[55521  1342]\n",
            " [   13    85]]\n",
            "Confusion matrix, without normalization\n",
            "[[56863     0]\n",
            " [    0    98]]\n"
          ],
          "name": "stdout"
        },
        {
          "output_type": "display_data",
          "data": {
            "image/png": "[encoded data removed]",
            "text/plain": [
              "<Figure size 1152x576 with 4 Axes>"
            ]
          },
          "metadata": {
            "tags": []
          }
        }
      ]
    },
    {
      "cell_type": "markdown",
      "metadata": {
        "id": "G2XuPl63XM0u",
        "colab_type": "text"
      },
      "source": [
        "## SMOTE for SVM"
      ]
    },
    {
      "cell_type": "code",
      "metadata": {
        "id": "sDqxXm3-rNyy",
        "colab_type": "code",
        "outputId": "6f0b95ae-14af-4cf0-e7b1-f11a7625c132",
        "colab": {
          "base_uri": "https://localhost:8080/",
          "height": 35
        }
      },
      "source": [
        "from sklearn.model_selection import train_test_split, RandomizedSearchCV\n",
        "\n",
        "# List to append the score and then find the average\n",
        "accuracy_lst = []\n",
        "precision_lst = []\n",
        "recall_lst = []\n",
        "f1_lst = []\n",
        "auc_lst = []\n",
        "\n",
        "# Support Vector Classifier\n",
        "svc_params = {'C': [0.5, 0.7, 0.9, 1], 'kernel': ['rbf', 'poly', 'sigmoid', 'linear']}\n",
        "rand_svc = RandomizedSearchCV(SVC(), svc_params, n_iter=1)\n",
        "print(\"Support Vector Classifier\")\n",
        "\n",
        "# Implementing SMOTE Technique \n",
        "# Cross Validating the right way\n",
        "for train, test in sss.split(original_Xtrain, original_ytrain):\n",
        "    pipeline = imbalanced_make_pipeline(SMOTE(sampling_strategy='minority'), rand_svc) # SMOTE happens during Cross Validation not before..\n",
        "    model = pipeline.fit(original_Xtrain[train], original_ytrain[train])\n",
        "    best_est = rand_svc.best_estimator_\n",
        "    prediction = best_est.predict(original_Xtrain[test])\n",
        "    \n",
        "    accuracy_lst.append(pipeline.score(original_Xtrain[test], original_ytrain[test]))\n",
        "    precision_lst.append(precision_score(original_ytrain[test], prediction))\n",
        "    recall_lst.append(recall_score(original_ytrain[test], prediction))\n",
        "    f1_lst.append(f1_score(original_ytrain[test], prediction))\n",
        "    auc_lst.append(roc_auc_score(original_ytrain[test], prediction))\n",
        "    \n",
        "print('---' * 45)\n",
        "print('')\n",
        "print(\"accuracy: {}\".format(np.mean(accuracy_lst)))\n",
        "print(\"precision: {}\".format(np.mean(precision_lst)))\n",
        "print(\"recall: {}\".format(np.mean(recall_lst)))\n",
        "print(\"f1: {}\".format(np.mean(f1_lst)))\n",
        "print('---' * 45)\n",
        "\n"
      ],
      "execution_count": 0,
      "outputs": [
        {
          "output_type": "stream",
          "text": [
            "Support Vector Classifier\n"
          ],
          "name": "stdout"
        }
      ]
    },
    {
      "cell_type": "code",
      "metadata": {
        "id": "j90i-RJBz7s7",
        "colab_type": "code",
        "colab": {}
      },
      "source": [
        "labels = ['No Fraud', 'Fraud']\n",
        "smote_prediction = best_est.predict(original_Xtest)\n",
        "print(classification_report(original_ytest, smote_prediction, target_names=labels))"
      ],
      "execution_count": 0,
      "outputs": []
    },
    {
      "cell_type": "code",
      "metadata": {
        "id": "qYvu2X2VapIQ",
        "colab_type": "code",
        "colab": {}
      },
      "source": [
        "from sklearn.metrics import average_precision_score\n",
        "from sklearn.metrics import precision_recall_curve\n",
        "import matplotlib.pyplot as plt\n",
        "\n",
        "y_score = best_est.decision_function(original_Xtest)\n",
        "average_precision = average_precision_score(original_ytest, y_score)\n",
        "\n",
        "print('Average precision-recall score: {0:0.2f}'.format(\n",
        "      average_precision))\n",
        "\n",
        "fig = plt.figure(figsize=(12,6))\n",
        "\n",
        "precision, recall, _ = precision_recall_curve(original_ytest, y_score)\n",
        "\n",
        "plt.step(recall, precision, color='r', alpha=0.2,\n",
        "         where='post')\n",
        "plt.fill_between(recall, precision, step='post', alpha=0.2,\n",
        "                 color='#F59B00')\n",
        "\n",
        "plt.xlabel('Recall')\n",
        "plt.ylabel('Precision')\n",
        "plt.ylim([0.0, 1.05])\n",
        "plt.xlim([0.0, 1.0])\n",
        "plt.title('OverSampling Precision-Recall curve: \\n Average Precision-Recall Score ={0:0.2f}'.format(\n",
        "          average_precision), fontsize=16)"
      ],
      "execution_count": 0,
      "outputs": []
    },
    {
      "cell_type": "code",
      "metadata": {
        "id": "Q2IBzH2Katvk",
        "colab_type": "code",
        "colab": {}
      },
      "source": [
        "import itertools\n",
        "\n",
        "# Create a confusion matrix\n",
        "def plot_confusion_matrix(cm, classes,\n",
        "                          normalize=False,\n",
        "                          title='Confusion matrix',\n",
        "                          cmap=plt.cm.Blues):\n",
        "    \"\"\"\n",
        "    This function prints and plots the confusion matrix.\n",
        "    Normalization can be applied by setting `normalize=True`.\n",
        "    \"\"\"\n",
        "    if normalize:\n",
        "        cm = cm.astype('float') / cm.sum(axis=1)[:, np.newaxis]\n",
        "        print(\"Normalized confusion matrix\")\n",
        "    else:\n",
        "        print('Confusion matrix, without normalization')\n",
        "\n",
        "    print(cm)\n",
        "\n",
        "    plt.imshow(cm, interpolation='nearest', cmap=cmap)\n",
        "    plt.title(title, fontsize=14)\n",
        "    plt.colorbar()\n",
        "    tick_marks = np.arange(len(classes))\n",
        "    plt.xticks(tick_marks, classes, rotation=45)\n",
        "    plt.yticks(tick_marks, classes)\n",
        "\n",
        "    fmt = '.2f' if normalize else 'd'\n",
        "    thresh = cm.max() / 2.\n",
        "    for i, j in itertools.product(range(cm.shape[0]), range(cm.shape[1])):\n",
        "        plt.text(j, i, format(cm[i, j], fmt),\n",
        "                 horizontalalignment=\"center\",\n",
        "                 color=\"white\" if cm[i, j] > thresh else \"black\")\n",
        "\n",
        "    plt.tight_layout()\n",
        "    plt.ylabel('True label')\n",
        "    plt.xlabel('Predicted label')"
      ],
      "execution_count": 0,
      "outputs": []
    },
    {
      "cell_type": "code",
      "metadata": {
        "id": "y3X-U5KPax2k",
        "colab_type": "code",
        "colab": {}
      },
      "source": [
        "y_pred_log_reg = best_est.predict(original_Xtest)\n",
        "log_reg_cf = confusion_matrix(original_ytest, y_pred_log_reg)\n",
        "actual_cm = confusion_matrix(original_ytest, original_ytest)\n",
        "labels = ['No Fraud', 'Fraud']\n",
        "\n",
        "fig = plt.figure(figsize=(16,8))\n",
        "\n",
        "fig.add_subplot(221)\n",
        "plot_confusion_matrix(log_reg_cf, labels, title=\"SVM SMOTE \\n Confusion Matrix\", cmap=plt.cm.Reds)\n",
        "\n",
        "fig.add_subplot(222)\n",
        "plot_confusion_matrix(actual_cm, labels, title=\"Confusion Matrix \\n (with 100% accuracy)\", cmap=plt.cm.Greens)"
      ],
      "execution_count": 0,
      "outputs": []
    },
    {
      "cell_type": "markdown",
      "metadata": {
        "id": "vdyJIOHGA-IT",
        "colab_type": "text"
      },
      "source": [
        "## SMOTE for Random Forest"
      ]
    },
    {
      "cell_type": "code",
      "metadata": {
        "id": "eQ8nI2P3uhW2",
        "colab_type": "code",
        "outputId": "1327b7c2-7bc9-48dc-ebcf-afc4da262552",
        "colab": {
          "base_uri": "https://localhost:8080/",
          "height": 141
        }
      },
      "source": [
        "from sklearn.model_selection import train_test_split, RandomizedSearchCV\n",
        "\n",
        "# List to append the score and then find the average\n",
        "accuracy_lst = []\n",
        "precision_lst = []\n",
        "recall_lst = []\n",
        "f1_lst = []\n",
        "auc_lst = []\n",
        "\n",
        "# Random Forest Classifier\n",
        "# Number of trees in random forest\n",
        "n_estimators = [int(x) for x in np.linspace(start = 200, stop = 500, num = 5)]\n",
        "# Number of features to consider at every split\n",
        "max_features = ['auto', 'sqrt']\n",
        "# Maximum number of levels in tree\n",
        "max_depth = [int(x) for x in np.linspace(10, 80, num = 5)]\n",
        "max_depth.append(None)\n",
        "# Minimum number of samples required to split a node\n",
        "min_samples_split = [2, 5, 10]\n",
        "# Minimum number of samples required at each leaf node\n",
        "min_samples_leaf = [1, 2, 4]\n",
        "# Method of selecting samples for training each tree\n",
        "bootstrap = [True, False]\n",
        "\n",
        "# Create the random grid\n",
        "forest_params = {'n_estimators': n_estimators,\n",
        "               'max_features': max_features,\n",
        "               'max_depth': max_depth,\n",
        "               'min_samples_split': min_samples_split,\n",
        "               'min_samples_leaf': min_samples_leaf,\n",
        "               'bootstrap': bootstrap}\n",
        "\n",
        "rand_forest = RandomizedSearchCV(RandomForestClassifier(), forest_params, n_iter=1)\n",
        "\n",
        "# Implementing SMOTE Technique \n",
        "# Cross Validating the right way\n",
        "for train, test in sss.split(original_Xtrain, original_ytrain):\n",
        "    pipeline = imbalanced_make_pipeline(SMOTE(sampling_strategy='minority'), rand_forest) # SMOTE happens during Cross Validation not before..\n",
        "    model = pipeline.fit(original_Xtrain[train], original_ytrain[train])\n",
        "    best_est = rand_forest.best_estimator_\n",
        "    prediction = best_est.predict(original_Xtrain[test])\n",
        "    \n",
        "    accuracy_lst.append(pipeline.score(original_Xtrain[test], original_ytrain[test]))\n",
        "    precision_lst.append(precision_score(original_ytrain[test], prediction))\n",
        "    recall_lst.append(recall_score(original_ytrain[test], prediction))\n",
        "    f1_lst.append(f1_score(original_ytrain[test], prediction))\n",
        "    auc_lst.append(roc_auc_score(original_ytrain[test], prediction))\n",
        "    \n",
        "print('---' * 45)\n",
        "print('')\n",
        "print(\"accuracy: {}\".format(np.mean(accuracy_lst)))\n",
        "print(\"precision: {}\".format(np.mean(precision_lst)))\n",
        "print(\"recall: {}\".format(np.mean(recall_lst)))\n",
        "print(\"f1: {}\".format(np.mean(f1_lst)))\n",
        "print('---' * 45)"
      ],
      "execution_count": 0,
      "outputs": [
        {
          "output_type": "stream",
          "text": [
            "---------------------------------------------------------------------------------------------------------------------------------------\n",
            "\n",
            "accuracy: 0.9972569380238049\n",
            "precision: 0.6184342462298666\n",
            "recall: 0.6734501785134697\n",
            "f1: 0.47784496410681127\n",
            "---------------------------------------------------------------------------------------------------------------------------------------\n"
          ],
          "name": "stdout"
        }
      ]
    },
    {
      "cell_type": "code",
      "metadata": {
        "id": "GzjGX7-fz880",
        "colab_type": "code",
        "outputId": "3415db8c-7a6d-4bc2-8fb9-189a3ae5082a",
        "colab": {
          "base_uri": "https://localhost:8080/",
          "height": 177
        }
      },
      "source": [
        "labels = ['No Fraud', 'Fraud']\n",
        "smote_prediction = best_est.predict(original_Xtest)\n",
        "print(classification_report(original_ytest, smote_prediction, target_names=labels))"
      ],
      "execution_count": 0,
      "outputs": [
        {
          "output_type": "stream",
          "text": [
            "              precision    recall  f1-score   support\n",
            "\n",
            "    No Fraud       1.00      1.00      1.00     56863\n",
            "       Fraud       0.00      0.00      0.00        98\n",
            "\n",
            "    accuracy                           1.00     56961\n",
            "   macro avg       0.50      0.50      0.50     56961\n",
            "weighted avg       1.00      1.00      1.00     56961\n",
            "\n"
          ],
          "name": "stdout"
        }
      ]
    },
    {
      "cell_type": "code",
      "metadata": {
        "id": "VDwSKw-dJKAZ",
        "colab_type": "code",
        "outputId": "99266df8-9424-4ba5-dc3d-42fb99972e92",
        "colab": {
          "base_uri": "https://localhost:8080/",
          "height": 458
        }
      },
      "source": [
        "from sklearn.metrics import average_precision_score\n",
        "from sklearn.metrics import precision_recall_curve\n",
        "import matplotlib.pyplot as plt\n",
        "\n",
        "y_score = best_est.predict_proba(original_Xtest)[:,-1]\n",
        "average_precision = average_precision_score(original_ytest, y_score)\n",
        "\n",
        "print('Average precision-recall score: {0:0.2f}'.format(\n",
        "      average_precision))\n",
        "\n",
        "fig = plt.figure(figsize=(12,6))\n",
        "\n",
        "precision, recall, _ = precision_recall_curve(original_ytest, y_score)\n",
        "\n",
        "plt.step(recall, precision, color='r', alpha=0.2,\n",
        "         where='post')\n",
        "plt.fill_between(recall, precision, step='post', alpha=0.2,\n",
        "                 color='#F59B00')\n",
        "\n",
        "plt.xlabel('Recall')\n",
        "plt.ylabel('Precision')\n",
        "plt.ylim([0.0, 1.05])\n",
        "plt.xlim([0.0, 1.0])\n",
        "plt.title('OverSampling Random Forest Precision-Recall curve: \\n Average Precision-Recall Score ={0:0.2f}'.format(\n",
        "          average_precision), fontsize=16)"
      ],
      "execution_count": 0,
      "outputs": [
        {
          "output_type": "stream",
          "text": [
            "Average precision-recall score: 0.81\n"
          ],
          "name": "stdout"
        },
        {
          "output_type": "execute_result",
          "data": {
            "text/plain": [
              "Text(0.5, 1.0, 'OverSampling Random Forest Precision-Recall curve: \\n Average Precision-Recall Score =0.81')"
            ]
          },
          "metadata": {
            "tags": []
          },
          "execution_count": 15
        },
        {
          "output_type": "display_data",
          "data": {
            "image/png": "[encoded data removed]",
            "text/plain": [
              "<Figure size 864x432 with 1 Axes>"
            ]
          },
          "metadata": {
            "tags": []
          }
        }
      ]
    },
    {
      "cell_type": "code",
      "metadata": {
        "id": "_vWrNF-Ds5ye",
        "colab_type": "code",
        "colab": {}
      },
      "source": [
        "import itertools\n",
        "\n",
        "# Create a confusion matrix\n",
        "def plot_confusion_matrix(cm, classes,\n",
        "                          normalize=False,\n",
        "                          title='Confusion matrix',\n",
        "                          cmap=plt.cm.Blues):\n",
        "    \"\"\"\n",
        "    This function prints and plots the confusion matrix.\n",
        "    Normalization can be applied by setting `normalize=True`.\n",
        "    \"\"\"\n",
        "    if normalize:\n",
        "        cm = cm.astype('float') / cm.sum(axis=1)[:, np.newaxis]\n",
        "        print(\"Normalized confusion matrix\")\n",
        "    else:\n",
        "        print('Confusion matrix, without normalization')\n",
        "\n",
        "    print(cm)\n",
        "\n",
        "    plt.imshow(cm, interpolation='nearest', cmap=cmap)\n",
        "    plt.title(title, fontsize=14)\n",
        "    plt.colorbar()\n",
        "    tick_marks = np.arange(len(classes))\n",
        "    plt.xticks(tick_marks, classes, rotation=45)\n",
        "    plt.yticks(tick_marks, classes)\n",
        "\n",
        "    fmt = '.2f' if normalize else 'd'\n",
        "    thresh = cm.max() / 2.\n",
        "    for i, j in itertools.product(range(cm.shape[0]), range(cm.shape[1])):\n",
        "        plt.text(j, i, format(cm[i, j], fmt),\n",
        "                 horizontalalignment=\"center\",\n",
        "                 color=\"white\" if cm[i, j] > thresh else \"black\")\n",
        "\n",
        "    plt.tight_layout()\n",
        "    plt.ylabel('True label')\n",
        "    plt.xlabel('Predicted label')"
      ],
      "execution_count": 0,
      "outputs": []
    },
    {
      "cell_type": "code",
      "metadata": {
        "id": "d3zzYFuuJSZI",
        "colab_type": "code",
        "outputId": "1bae6c4f-c990-4f81-f079-7450c0f4708c",
        "colab": {
          "base_uri": "https://localhost:8080/",
          "height": 455
        }
      },
      "source": [
        "from sklearn.metrics import confusion_matrix\n",
        "\n",
        "y_pred_log_reg = best_est.predict(original_Xtest)\n",
        "log_reg_cf = confusion_matrix(original_ytest, y_pred_log_reg)\n",
        "actual_cm = confusion_matrix(original_ytest, original_ytest)\n",
        "labels = ['No Fraud', 'Fraud']\n",
        "\n",
        "fig = plt.figure(figsize=(16,8))\n",
        "\n",
        "fig.add_subplot(221)\n",
        "plot_confusion_matrix(log_reg_cf, labels, title=\"Random Forest SMOTE \\n Confusion Matrix\", cmap=plt.cm.Reds)\n",
        "\n",
        "fig.add_subplot(222)\n",
        "plot_confusion_matrix(actual_cm, labels, title=\"Confusion Matrix \\n (with 100% accuracy)\", cmap=plt.cm.Greens)"
      ],
      "execution_count": 0,
      "outputs": [
        {
          "output_type": "stream",
          "text": [
            "Confusion matrix, without normalization\n",
            "[[56863     0]\n",
            " [   98     0]]\n",
            "Confusion matrix, without normalization\n",
            "[[56863     0]\n",
            " [    0    98]]\n"
          ],
          "name": "stdout"
        },
        {
          "output_type": "display_data",
          "data": {
            "image/png": "[encoded data removed]",
            "text/plain": [
              "<Figure size 1152x576 with 4 Axes>"
            ]
          },
          "metadata": {
            "tags": []
          }
        }
      ]
    },
    {
      "cell_type": "markdown",
      "metadata": {
        "id": "l-6GMGn1azdW",
        "colab_type": "text"
      },
      "source": [
        "# Neural Networks Testing Random UnderSampling Data vs OverSampling (SMOTE)"
      ]
    },
    {
      "cell_type": "markdown",
      "metadata": {
        "id": "X4Um47GB5SjR",
        "colab_type": "text"
      },
      "source": [
        "## Neural Networks Testing Random UnderSampling Data"
      ]
    },
    {
      "cell_type": "code",
      "metadata": {
        "id": "mrQvDAwhTo3E",
        "colab_type": "code",
        "outputId": "f4d99f97-b97c-4ad4-e0c6-ae6f78297286",
        "colab": {
          "base_uri": "https://localhost:8080/",
          "height": 139
        }
      },
      "source": [
        "import keras\n",
        "from keras import backend as K\n",
        "from keras.models import Sequential\n",
        "from keras.layers import Activation\n",
        "from keras.layers.core import Dense\n",
        "from keras.optimizers import Adam\n",
        "from keras.metrics import categorical_crossentropy\n",
        "\n",
        "n_inputs = X_train.shape[1] #number of features\n",
        "\n",
        "undersample_model = Sequential([\n",
        "    Dense(n_inputs, input_shape=(n_inputs, ), activation='relu'),\n",
        "    Dense(32, activation='relu'),\n",
        "    Dense(2, activation='softmax')\n",
        "])"
      ],
      "execution_count": 0,
      "outputs": [
        {
          "output_type": "stream",
          "text": [
            "WARNING:tensorflow:From /usr/local/lib/python3.6/dist-packages/keras/backend/tensorflow_backend.py:66: The name tf.get_default_graph is deprecated. Please use tf.compat.v1.get_default_graph instead.\n",
            "\n",
            "WARNING:tensorflow:From /usr/local/lib/python3.6/dist-packages/keras/backend/tensorflow_backend.py:541: The name tf.placeholder is deprecated. Please use tf.compat.v1.placeholder instead.\n",
            "\n",
            "WARNING:tensorflow:From /usr/local/lib/python3.6/dist-packages/keras/backend/tensorflow_backend.py:4432: The name tf.random_uniform is deprecated. Please use tf.random.uniform instead.\n",
            "\n"
          ],
          "name": "stdout"
        }
      ]
    },
    {
      "cell_type": "code",
      "metadata": {
        "id": "Stt1UpsxbNeJ",
        "colab_type": "code",
        "outputId": "653555a1-8fbc-444e-8ba1-5c729cb0d003",
        "colab": {
          "base_uri": "https://localhost:8080/",
          "height": 34
        }
      },
      "source": [
        "X_train.shape"
      ],
      "execution_count": 0,
      "outputs": [
        {
          "output_type": "execute_result",
          "data": {
            "text/plain": [
              "(787, 30)"
            ]
          },
          "metadata": {
            "tags": []
          },
          "execution_count": 17
        }
      ]
    },
    {
      "cell_type": "code",
      "metadata": {
        "id": "vOtdjLppdh3f",
        "colab_type": "code",
        "outputId": "cf4c45eb-e303-4d0d-a798-73a7188e54a0",
        "colab": {
          "base_uri": "https://localhost:8080/",
          "height": 255
        }
      },
      "source": [
        "undersample_model.summary()"
      ],
      "execution_count": 0,
      "outputs": [
        {
          "output_type": "stream",
          "text": [
            "Model: \"sequential_1\"\n",
            "_________________________________________________________________\n",
            "Layer (type)                 Output Shape              Param #   \n",
            "=================================================================\n",
            "dense_1 (Dense)              (None, 30)                930       \n",
            "_________________________________________________________________\n",
            "dense_2 (Dense)              (None, 32)                992       \n",
            "_________________________________________________________________\n",
            "dense_3 (Dense)              (None, 2)                 66        \n",
            "=================================================================\n",
            "Total params: 1,988\n",
            "Trainable params: 1,988\n",
            "Non-trainable params: 0\n",
            "_________________________________________________________________\n"
          ],
          "name": "stdout"
        }
      ]
    },
    {
      "cell_type": "code",
      "metadata": {
        "id": "m5zvkk0ieFM7",
        "colab_type": "code",
        "outputId": "8cda6f97-9a55-44dd-ef52-007db2d6f91d",
        "colab": {
          "base_uri": "https://localhost:8080/",
          "height": 105
        }
      },
      "source": [
        "undersample_model.compile(Adam(lr=0.001), loss='sparse_categorical_crossentropy', metrics=['accuracy'])"
      ],
      "execution_count": 0,
      "outputs": [
        {
          "output_type": "stream",
          "text": [
            "WARNING:tensorflow:From /usr/local/lib/python3.6/dist-packages/keras/optimizers.py:793: The name tf.train.Optimizer is deprecated. Please use tf.compat.v1.train.Optimizer instead.\n",
            "\n",
            "WARNING:tensorflow:From /usr/local/lib/python3.6/dist-packages/keras/backend/tensorflow_backend.py:3622: The name tf.log is deprecated. Please use tf.math.log instead.\n",
            "\n"
          ],
          "name": "stdout"
        }
      ]
    },
    {
      "cell_type": "code",
      "metadata": {
        "id": "Bi_JmEMgeQlh",
        "colab_type": "code",
        "outputId": "5aec5b93-9d3e-4736-9a34-0461314e3b77",
        "colab": {
          "base_uri": "https://localhost:8080/",
          "height": 1000
        }
      },
      "source": [
        "undersample_model.fit(X_train, y_train, validation_split=0.2, batch_size=25, epochs=20, shuffle=True, verbose=2)"
      ],
      "execution_count": 0,
      "outputs": [
        {
          "output_type": "stream",
          "text": [
            "WARNING:tensorflow:From /usr/local/lib/python3.6/dist-packages/tensorflow_core/python/ops/math_grad.py:1424: where (from tensorflow.python.ops.array_ops) is deprecated and will be removed in a future version.\n",
            "Instructions for updating:\n",
            "Use tf.where in 2.0, which has the same broadcast rule as np.where\n",
            "WARNING:tensorflow:From /usr/local/lib/python3.6/dist-packages/keras/backend/tensorflow_backend.py:1033: The name tf.assign_add is deprecated. Please use tf.compat.v1.assign_add instead.\n",
            "\n",
            "WARNING:tensorflow:From /usr/local/lib/python3.6/dist-packages/keras/backend/tensorflow_backend.py:1020: The name tf.assign is deprecated. Please use tf.compat.v1.assign instead.\n",
            "\n",
            "WARNING:tensorflow:From /usr/local/lib/python3.6/dist-packages/keras/backend/tensorflow_backend.py:3005: The name tf.Session is deprecated. Please use tf.compat.v1.Session instead.\n",
            "\n",
            "Train on 629 samples, validate on 158 samples\n",
            "Epoch 1/20\n",
            "WARNING:tensorflow:From /usr/local/lib/python3.6/dist-packages/keras/backend/tensorflow_backend.py:190: The name tf.get_default_session is deprecated. Please use tf.compat.v1.get_default_session instead.\n",
            "\n",
            "WARNING:tensorflow:From /usr/local/lib/python3.6/dist-packages/keras/backend/tensorflow_backend.py:197: The name tf.ConfigProto is deprecated. Please use tf.compat.v1.ConfigProto instead.\n",
            "\n",
            "WARNING:tensorflow:From /usr/local/lib/python3.6/dist-packages/keras/backend/tensorflow_backend.py:207: The name tf.global_variables is deprecated. Please use tf.compat.v1.global_variables instead.\n",
            "\n",
            "WARNING:tensorflow:From /usr/local/lib/python3.6/dist-packages/keras/backend/tensorflow_backend.py:216: The name tf.is_variable_initialized is deprecated. Please use tf.compat.v1.is_variable_initialized instead.\n",
            "\n",
            "WARNING:tensorflow:From /usr/local/lib/python3.6/dist-packages/keras/backend/tensorflow_backend.py:223: The name tf.variables_initializer is deprecated. Please use tf.compat.v1.variables_initializer instead.\n",
            "\n",
            " - 5s - loss: 0.6242 - acc: 0.6041 - val_loss: 0.4179 - val_acc: 0.7152\n",
            "Epoch 2/20\n",
            " - 0s - loss: 0.3952 - acc: 0.8315 - val_loss: 0.2909 - val_acc: 0.9051\n",
            "Epoch 3/20\n",
            " - 0s - loss: 0.2994 - acc: 0.9046 - val_loss: 0.2383 - val_acc: 0.9241\n",
            "Epoch 4/20\n",
            " - 0s - loss: 0.2455 - acc: 0.9253 - val_loss: 0.2105 - val_acc: 0.9367\n",
            "Epoch 5/20\n",
            " - 0s - loss: 0.2094 - acc: 0.9332 - val_loss: 0.1934 - val_acc: 0.9367\n",
            "Epoch 6/20\n",
            " - 0s - loss: 0.1820 - acc: 0.9412 - val_loss: 0.1867 - val_acc: 0.9430\n",
            "Epoch 7/20\n",
            " - 0s - loss: 0.1632 - acc: 0.9444 - val_loss: 0.1806 - val_acc: 0.9430\n",
            "Epoch 8/20\n",
            " - 0s - loss: 0.1490 - acc: 0.9475 - val_loss: 0.1813 - val_acc: 0.9430\n",
            "Epoch 9/20\n",
            " - 0s - loss: 0.1385 - acc: 0.9475 - val_loss: 0.1903 - val_acc: 0.9430\n",
            "Epoch 10/20\n",
            " - 0s - loss: 0.1276 - acc: 0.9523 - val_loss: 0.1888 - val_acc: 0.9430\n",
            "Epoch 11/20\n",
            " - 0s - loss: 0.1179 - acc: 0.9523 - val_loss: 0.1898 - val_acc: 0.9430\n",
            "Epoch 12/20\n",
            " - 0s - loss: 0.1100 - acc: 0.9571 - val_loss: 0.1921 - val_acc: 0.9430\n",
            "Epoch 13/20\n",
            " - 0s - loss: 0.1042 - acc: 0.9603 - val_loss: 0.1965 - val_acc: 0.9430\n",
            "Epoch 14/20\n",
            " - 0s - loss: 0.0985 - acc: 0.9587 - val_loss: 0.2007 - val_acc: 0.9430\n",
            "Epoch 15/20\n",
            " - 0s - loss: 0.0954 - acc: 0.9603 - val_loss: 0.2023 - val_acc: 0.9430\n",
            "Epoch 16/20\n",
            " - 0s - loss: 0.0870 - acc: 0.9698 - val_loss: 0.2011 - val_acc: 0.9430\n",
            "Epoch 17/20\n",
            " - 0s - loss: 0.0838 - acc: 0.9682 - val_loss: 0.2048 - val_acc: 0.9430\n",
            "Epoch 18/20\n",
            " - 0s - loss: 0.0806 - acc: 0.9698 - val_loss: 0.2080 - val_acc: 0.9430\n",
            "Epoch 19/20\n",
            " - 0s - loss: 0.0757 - acc: 0.9714 - val_loss: 0.2133 - val_acc: 0.9430\n",
            "Epoch 20/20\n",
            " - 0s - loss: 0.0813 - acc: 0.9698 - val_loss: 0.2163 - val_acc: 0.9430\n"
          ],
          "name": "stdout"
        },
        {
          "output_type": "execute_result",
          "data": {
            "text/plain": [
              "<keras.callbacks.History at 0x7f33b1453358>"
            ]
          },
          "metadata": {
            "tags": []
          },
          "execution_count": 20
        }
      ]
    },
    {
      "cell_type": "code",
      "metadata": {
        "id": "fS77hdlAeuIe",
        "colab_type": "code",
        "colab": {}
      },
      "source": [
        "undersample_predictions = undersample_model.predict(orig_Xtest, batch_size=200, verbose=0)"
      ],
      "execution_count": 0,
      "outputs": []
    },
    {
      "cell_type": "code",
      "metadata": {
        "id": "wRWbTUGgev75",
        "colab_type": "code",
        "colab": {}
      },
      "source": [
        "undersample_fraud_predictions = undersample_model.predict_classes(orig_Xtest, batch_size=200, verbose=0)"
      ],
      "execution_count": 0,
      "outputs": []
    },
    {
      "cell_type": "code",
      "metadata": {
        "id": "14KaDa5jfnjy",
        "colab_type": "code",
        "outputId": "4f4f90d7-82da-45dd-8fda-5860950d1fbe",
        "colab": {
          "base_uri": "https://localhost:8080/",
          "height": 68
        }
      },
      "source": [
        "print(undersample_predictions.shape)\n",
        "print(orig_Xtest.shape)\n",
        "print(undersample_fraud_predictions.shape)\n"
      ],
      "execution_count": 0,
      "outputs": [
        {
          "output_type": "stream",
          "text": [
            "(56961, 2)\n",
            "(56961, 30)\n",
            "(56961,)\n"
          ],
          "name": "stdout"
        }
      ]
    },
    {
      "cell_type": "code",
      "metadata": {
        "id": "Wecxrvi0f97t",
        "colab_type": "code",
        "outputId": "3cc32833-fd34-4e7d-f1ff-6dcfed0dc98e",
        "colab": {
          "base_uri": "https://localhost:8080/",
          "height": 136
        }
      },
      "source": [
        "undersample_predictions"
      ],
      "execution_count": 0,
      "outputs": [
        {
          "output_type": "execute_result",
          "data": {
            "text/plain": [
              "array([[0.01096449, 0.98903555],\n",
              "       [0.00793885, 0.99206114],\n",
              "       [0.02315091, 0.97684914],\n",
              "       ...,\n",
              "       [0.7455965 , 0.2544035 ],\n",
              "       [0.9803796 , 0.01962041],\n",
              "       [0.8194305 , 0.18056956]], dtype=float32)"
            ]
          },
          "metadata": {
            "tags": []
          },
          "execution_count": 24
        }
      ]
    },
    {
      "cell_type": "code",
      "metadata": {
        "id": "V6iQXYkGgFnn",
        "colab_type": "code",
        "outputId": "082c75a2-99a4-49e1-b152-6dbc8fb78f22",
        "colab": {
          "base_uri": "https://localhost:8080/",
          "height": 34
        }
      },
      "source": [
        "undersample_fraud_predictions"
      ],
      "execution_count": 0,
      "outputs": [
        {
          "output_type": "execute_result",
          "data": {
            "text/plain": [
              "array([1, 1, 1, ..., 0, 0, 0])"
            ]
          },
          "metadata": {
            "tags": []
          },
          "execution_count": 25
        }
      ]
    },
    {
      "cell_type": "code",
      "metadata": {
        "id": "n5t7kog_gErI",
        "colab_type": "code",
        "colab": {}
      },
      "source": [
        "# import itertools\n",
        "\n",
        "# # Create a confusion matrix\n",
        "# def plot_confusion_matrix(cm, classes,\n",
        "#                           normalize=False,\n",
        "#                           title='Confusion matrix',\n",
        "#                           cmap=plt.cm.Blues):\n",
        "#     \"\"\"\n",
        "#     This function prints and plots the confusion matrix.\n",
        "#     Normalization can be applied by setting `normalize=True`.\n",
        "#     \"\"\"\n",
        "#     if normalize:\n",
        "#         cm = cm.astype('float') / cm.sum(axis=1)[:, np.newaxis]\n",
        "#         print(\"Normalized confusion matrix\")\n",
        "#     else:\n",
        "#         print('Confusion matrix, without normalization')\n",
        "\n",
        "#     print(cm)\n",
        "\n",
        "#     plt.imshow(cm, interpolation='nearest', cmap=cmap)\n",
        "#     plt.title(title, fontsize=14)\n",
        "#     plt.colorbar()\n",
        "#     tick_marks = np.arange(len(classes))\n",
        "#     plt.xticks(tick_marks, classes, rotation=45)\n",
        "#     plt.yticks(tick_marks, classes)\n",
        "\n",
        "#     fmt = '.2f' if normalize else 'd'\n",
        "#     thresh = cm.max() / 2.\n",
        "#     for i, j in itertools.product(range(cm.shape[0]), range(cm.shape[1])):\n",
        "#         plt.text(j, i, format(cm[i, j], fmt),\n",
        "#                  horizontalalignment=\"center\",\n",
        "#                  color=\"white\" if cm[i, j] > thresh else \"black\")\n",
        "\n",
        "#     plt.tight_layout()\n",
        "#     plt.ylabel('True label')\n",
        "#     plt.xlabel('Predicted label')"
      ],
      "execution_count": 0,
      "outputs": []
    },
    {
      "cell_type": "code",
      "metadata": {
        "id": "fc_R_EfAj3k_",
        "colab_type": "code",
        "colab": {}
      },
      "source": [
        "# from sklearn.metrics import confusion_matrix\n",
        "# undersample_cm = confusion_matrix(orig_ytest, undersample_fraud_predictions)\n",
        "# actual_cm = confusion_matrix(orig_ytest, orig_ytest)\n",
        "# labels = ['No Fraud', 'Fraud']\n",
        "\n",
        "# fig = plt.figure(figsize=(18,8))\n",
        "\n",
        "# fig.add_subplot(221)\n",
        "# plot_confusion_matrix(undersample_cm, labels, title=\"Random UnderSample \\n Confusion Matrix\", cmap=plt.cm.Blues)\n",
        "\n",
        "# fig.add_subplot(222)\n",
        "# plot_confusion_matrix(actual_cm, labels, title=\"Confusion Matrix \\n (with 100% accuracy)\", cmap=plt.cm.Oranges)"
      ],
      "execution_count": 0,
      "outputs": []
    },
    {
      "cell_type": "code",
      "metadata": {
        "id": "Ya5iz5xzidOM",
        "colab_type": "code",
        "outputId": "ab13747b-eb60-48ef-81ac-a2aefb7a47e6",
        "colab": {
          "base_uri": "https://localhost:8080/",
          "height": 605
        }
      },
      "source": [
        "from sklearn.metrics import confusion_matrix\n",
        "import matplotlib.pyplot as plt\n",
        "undersample_cm = confusion_matrix(orig_ytest, undersample_fraud_predictions)\n",
        "actual_cm = confusion_matrix(orig_ytest, orig_ytest)\n",
        "labels = ['No Fraud', 'Fraud']\n",
        "\n",
        "#Random UnderSample Confusion Matrix\n",
        "fig = plt.figure()\n",
        "ax = fig.add_subplot(111)\n",
        "cax=ax.matshow(undersample_cm,cmap=plt.cm.Greens)  # plot matrix    \n",
        "fig.colorbar(cax) \n",
        "plt.title(\"Random UnderSample \\n Confusion Matrix\",y=1.08)\n",
        "ax.set_xticklabels([''] + labels)\n",
        "ax.set_yticklabels([''] + labels)\n",
        "plt.xlabel('Predicted')\n",
        "plt.ylabel('True')\n",
        "for i in range(len(undersample_cm)):\n",
        "    for j in range(len(undersample_cm)):\n",
        "        plt.annotate(undersample_cm[i,j],xy=(j,i),horizontalalignment='center',verticalalignment='center',size=15,color='orange') \n",
        "plt.show()\n",
        "\n",
        "\n",
        "#Confusion Matrix (with 100% accuracy\n",
        "fig = plt.figure()\n",
        "ax = fig.add_subplot(111)\n",
        "cax=ax.matshow(actual_cm,cmap=plt.cm.Reds)  # plot matrix    \n",
        "fig.colorbar(cax) \n",
        "plt.title(\"Confusion Matrix \\n (with 100% accuracy)\",y=1.08)\n",
        "ax.set_xticklabels([''] + labels)\n",
        "ax.set_yticklabels([''] + labels)\n",
        "plt.xlabel('Predicted')\n",
        "plt.ylabel('True')\n",
        "for i in range(len(actual_cm)):\n",
        "    for j in range(len(actual_cm)):\n",
        "        plt.annotate(actual_cm[i,j],xy=(j,i),horizontalalignment='center',verticalalignment='center',size=15,color='orange') \n",
        "plt.show()"
      ],
      "execution_count": 0,
      "outputs": [
        {
          "output_type": "display_data",
          "data": {
            "image/png": "[encoded data removed]",
            "text/plain": [
              "<Figure size 432x288 with 2 Axes>"
            ]
          },
          "metadata": {
            "tags": []
          }
        },
        {
          "output_type": "display_data",
          "data": {
            "image/png": "[encoded data removed]",
            "text/plain": [
              "<Figure size 432x288 with 2 Axes>"
            ]
          },
          "metadata": {
            "tags": []
          }
        }
      ]
    },
    {
      "cell_type": "markdown",
      "metadata": {
        "id": "dfvBb2bQmAKI",
        "colab_type": "text"
      },
      "source": [
        "## Neural Networks Testing OverSampling (SMOTE)"
      ]
    },
    {
      "cell_type": "code",
      "metadata": {
        "id": "0tiZS-EEigL1",
        "colab_type": "code",
        "colab": {}
      },
      "source": [
        "#####################################################\n",
        "###Confusion matrix\n",
        "#####################################################\n",
        "print(\"Random UnderSample: precison and recall score\")\n",
        "TP = undersample_cm[0,0]\n",
        "TN = undersample_cm[1,0]\n",
        "FP = undersample_cm[0,1]\n",
        "FN = undersample_cm[1,1]\n",
        "\n",
        "precision = TP/(TP+FP)\n",
        "recall = TP/(TP+FN)\n",
        "accuracy = (TP+TN) / (TP+FP+FN+TN)\n",
        "F1_Measure = 2*TP / (2*TP+FP+FN) #F1_Measure = 2PR / (P+R)  \n",
        "print(\"precision score:\",precision)\n",
        "print(\"recall score:\",recall)\n",
        "print(\"accuracy score:\",accuracy)\n",
        "print(\"F1 measure:\",F1_Measure,\"\\n\")\n",
        "\n",
        "\n",
        "print(\"Postivie control (100% accuracy): precison and recall score\")\n",
        "TP = actual_cm[0,0]\n",
        "TN = actual_cm[1,0]\n",
        "FP = actual_cm[0,1]\n",
        "FN = actual_cm[1,1]\n",
        "\n",
        "accuracy = (TP+TN) / (TP+FP+FN+TN)\n",
        "F1_Measure = 2*TP / (2*TP+FP+FN) #F1_Measure = 2PR / (P+R) \n",
        "print(\"precision score:\",precision)\n",
        "print(\"recall score:\",recall)\n",
        "print(\"accuracy score:\",accuracy)\n",
        "print(\"F1 measure:\",F1_Measure,\"\\n\")\n",
        "\n",
        "\n",
        "#####################################################\n",
        "###precision_recall_curve\n",
        "#####################################################\n",
        "from sklearn.metrics import average_precision_score\n",
        "from sklearn.metrics import precision_recall_curve\n",
        "import matplotlib.pyplot as plt\n",
        "\n",
        "average_precision = average_precision_score(orig_ytest, undersample_fraud_predictions)\n",
        "\n",
        "print('Average precision-recall score: {0:0.2f}'.format(\n",
        "      average_precision))\n",
        "\n",
        "fig = plt.figure(figsize=(12,6))\n",
        "\n",
        "precision, recall, _ = precision_recall_curve(orig_ytest, undersample_fraud_predictions)\n",
        "\n",
        "plt.step(recall, precision, color='r', alpha=0.2,\n",
        "         where='post')\n",
        "plt.fill_between(recall, precision, step='post', alpha=0.2,\n",
        "                 color='#F59B00')\n",
        "\n",
        "plt.xlabel('Recall')\n",
        "plt.ylabel('Precision')\n",
        "plt.ylim([0.0, 1.05])\n",
        "plt.xlim([0.0, 1.0])\n",
        "plt.title('Neural Network UnderSampling Precision-Recall curve: \\n Average Precision-Recall Score ={0:0.2f}'.format(\n",
        "          average_precision), fontsize=16)\n",
        "plt.show()"
      ],
      "execution_count": 0,
      "outputs": []
    },
    {
      "cell_type": "code",
      "metadata": {
        "id": "_jSZro_Xz6EW",
        "colab_type": "code",
        "outputId": "a6b52f2f-3ddb-4c71-ce82-ff21e5107fcc",
        "colab": {
          "base_uri": "https://localhost:8080/",
          "height": 102
        }
      },
      "source": [
        "# https://imbalanced-learn.readthedocs.io/en/stable/over_sampling.html\n",
        "# Create oversampling datasets \n",
        "\n",
        "from imblearn.over_sampling import SMOTE\n",
        "sm_Xtrain, sm_ytrain = SMOTE().fit_resample(orig_Xtrain, orig_ytrain)\n",
        "\n",
        "print(sorted(Counter(sm_ytrain).items()))\n",
        "print(sm_Xtrain.shape)\n",
        "print(sm_ytrain.shape)\n",
        "print(np.count_nonzero(orig_ytrain))\n",
        "print(np.count_nonzero(sm_ytrain))"
      ],
      "execution_count": 0,
      "outputs": [
        {
          "output_type": "stream",
          "text": [
            "[(0, 227452), (1, 227452)]\n",
            "(454904, 30)\n",
            "(454904,)\n",
            "394\n",
            "227452\n"
          ],
          "name": "stdout"
        }
      ]
    },
    {
      "cell_type": "code",
      "metadata": {
        "id": "fXtMigNkoZC5",
        "colab_type": "code",
        "outputId": "d3746b51-4e17-4c77-80e7-a67235cf31d7",
        "colab": {
          "base_uri": "https://localhost:8080/",
          "height": 366
        }
      },
      "source": [
        "print('No Frauds', round(np.count_nonzero(sm_ytrain)/len(sm_ytrain) * 100,2), '% of the Oversampled dataset')\n",
        "print('Frauds', round((len(sm_ytrain)-np.count_nonzero(sm_ytrain))/len(sm_ytrain) * 100,2), '% of the Oversampled dataset')\n",
        "\n",
        "labels = ('No Fraud','Fraud')\n",
        "y_pos = np.arange(len(labels))\n",
        "\n",
        "#Count classes\n",
        "OverSample_counts = np.array(np.unique(sm_ytrain, return_counts=True)).T\n",
        "print(OverSample_counts)\n",
        "OverSample_counts= [round(np.count_nonzero(sm_ytrain)),round((len(sm_ytrain)-np.count_nonzero(sm_ytrain)))]\n",
        "print(OverSample_counts)\n",
        "# Plotting class bar graph\n",
        "barlist = plt.bar(y_pos, OverSample_counts, align='center', alpha=0.5)\n",
        "barlist[1].set_color('orange')\n",
        "plt.xticks(y_pos, labels)\n",
        "plt.ylabel('Counts')\n",
        "plt.title('Oversampled No Fraud and Fraud Case Counts')\n",
        "\n",
        "plt.show()"
      ],
      "execution_count": 0,
      "outputs": [
        {
          "output_type": "stream",
          "text": [
            "No Frauds 50.0 % of the Oversampled dataset\n",
            "Frauds 50.0 % of the Oversampled dataset\n",
            "[[     0 227452]\n",
            " [     1 227452]]\n",
            "[227452, 227452]\n"
          ],
          "name": "stdout"
        },
        {
          "output_type": "display_data",
          "data": {
            "image/png": "[encoded data removed]",
            "text/plain": [
              "<Figure size 432x288 with 1 Axes>"
            ]
          },
          "metadata": {
            "tags": []
          }
        }
      ]
    },
    {
      "cell_type": "code",
      "metadata": {
        "id": "KJxv0WRsmLQz",
        "colab_type": "code",
        "colab": {}
      },
      "source": [
        "n_inputs = sm_Xtrain.shape[1]\n",
        "\n",
        "oversample_model = Sequential([\n",
        "    Dense(n_inputs, input_shape=(n_inputs, ), activation='relu'),\n",
        "    Dense(32, activation='relu'),\n",
        "    Dense(2, activation='softmax')\n",
        "])"
      ],
      "execution_count": 0,
      "outputs": []
    },
    {
      "cell_type": "code",
      "metadata": {
        "id": "nGw-wuA9n912",
        "colab_type": "code",
        "colab": {}
      },
      "source": [
        "oversample_model.compile(Adam(lr=0.001), loss='sparse_categorical_crossentropy', metrics=['accuracy'])"
      ],
      "execution_count": 0,
      "outputs": []
    },
    {
      "cell_type": "code",
      "metadata": {
        "id": "fc5XydoA4MRx",
        "colab_type": "code",
        "outputId": "9d5f5df9-3361-4be2-ee0c-ed367e46e82c",
        "colab": {
          "base_uri": "https://localhost:8080/",
          "height": 731
        }
      },
      "source": [
        "oversample_model.fit(sm_Xtrain, sm_ytrain, validation_split=0.2, batch_size=300, epochs=20, shuffle=True, verbose=2)"
      ],
      "execution_count": 0,
      "outputs": [
        {
          "output_type": "stream",
          "text": [
            "Train on 363923 samples, validate on 90981 samples\n",
            "Epoch 1/20\n",
            " - 6s - loss: 0.0575 - acc: 0.9806 - val_loss: 0.0202 - val_acc: 0.9987\n",
            "Epoch 2/20\n",
            " - 5s - loss: 0.0131 - acc: 0.9973 - val_loss: 0.0071 - val_acc: 0.9998\n",
            "Epoch 3/20\n",
            " - 6s - loss: 0.0086 - acc: 0.9984 - val_loss: 0.0049 - val_acc: 1.0000\n",
            "Epoch 4/20\n",
            " - 5s - loss: 0.0067 - acc: 0.9989 - val_loss: 0.0024 - val_acc: 1.0000\n",
            "Epoch 5/20\n",
            " - 6s - loss: 0.0054 - acc: 0.9991 - val_loss: 0.0013 - val_acc: 1.0000\n",
            "Epoch 6/20\n",
            " - 6s - loss: 0.0046 - acc: 0.9993 - val_loss: 0.0021 - val_acc: 0.9999\n",
            "Epoch 7/20\n",
            " - 5s - loss: 0.0042 - acc: 0.9994 - val_loss: 8.2420e-04 - val_acc: 1.0000\n",
            "Epoch 8/20\n",
            " - 5s - loss: 0.0040 - acc: 0.9994 - val_loss: 0.0013 - val_acc: 0.9999\n",
            "Epoch 9/20\n",
            " - 5s - loss: 0.0035 - acc: 0.9995 - val_loss: 4.3138e-04 - val_acc: 1.0000\n",
            "Epoch 10/20\n",
            " - 6s - loss: 0.0035 - acc: 0.9995 - val_loss: 0.0027 - val_acc: 0.9995\n",
            "Epoch 11/20\n",
            " - 6s - loss: 0.0032 - acc: 0.9996 - val_loss: 1.9777e-04 - val_acc: 1.0000\n",
            "Epoch 12/20\n",
            " - 5s - loss: 0.0031 - acc: 0.9996 - val_loss: 0.0030 - val_acc: 0.9996\n",
            "Epoch 13/20\n",
            " - 5s - loss: 0.0030 - acc: 0.9996 - val_loss: 3.7381e-04 - val_acc: 1.0000\n",
            "Epoch 14/20\n",
            " - 5s - loss: 0.0028 - acc: 0.9997 - val_loss: 5.5352e-04 - val_acc: 1.0000\n",
            "Epoch 15/20\n",
            " - 5s - loss: 0.0031 - acc: 0.9997 - val_loss: 6.6191e-04 - val_acc: 1.0000\n",
            "Epoch 16/20\n",
            " - 6s - loss: 0.0030 - acc: 0.9997 - val_loss: 3.0182e-04 - val_acc: 1.0000\n",
            "Epoch 17/20\n",
            " - 6s - loss: 0.0028 - acc: 0.9997 - val_loss: 2.5766e-04 - val_acc: 1.0000\n",
            "Epoch 18/20\n",
            " - 5s - loss: 0.0027 - acc: 0.9997 - val_loss: 2.0845e-04 - val_acc: 1.0000\n",
            "Epoch 19/20\n",
            " - 6s - loss: 0.0025 - acc: 0.9997 - val_loss: 5.2816e-05 - val_acc: 1.0000\n",
            "Epoch 20/20\n",
            " - 5s - loss: 0.0025 - acc: 0.9997 - val_loss: 5.9265e-04 - val_acc: 1.0000\n"
          ],
          "name": "stdout"
        },
        {
          "output_type": "execute_result",
          "data": {
            "text/plain": [
              "<keras.callbacks.History at 0x7f3357507470>"
            ]
          },
          "metadata": {
            "tags": []
          },
          "execution_count": 86
        }
      ]
    },
    {
      "cell_type": "code",
      "metadata": {
        "id": "24C8gwGCu0Y0",
        "colab_type": "code",
        "outputId": "9040c86b-91ea-4f76-d22c-71f7bd2b0d2e",
        "colab": {
          "base_uri": "https://localhost:8080/",
          "height": 605
        }
      },
      "source": [
        "from sklearn.metrics import confusion_matrix\n",
        "import matplotlib.pyplot as plt\n",
        "\n",
        "oversample_predictions = oversample_model.predict(orig_Xtest, batch_size=200, verbose=0)\n",
        "oversample_fraud_predictions = oversample_model.predict_classes(orig_Xtest, batch_size=200, verbose=0)\n",
        "\n",
        "oversample_smote = confusion_matrix(orig_ytest, oversample_fraud_predictions)\n",
        "actual_cm = confusion_matrix(orig_ytest, orig_ytest)\n",
        "labels = ['No Fraud', 'Fraud']\n",
        "\n",
        "#OverSample (SMOTE) Confusion Matrix\n",
        "fig = plt.figure()\n",
        "ax = fig.add_subplot(111)\n",
        "cax=ax.matshow(oversample_smote,cmap=plt.cm.Greens)  # plot matrix    \n",
        "fig.colorbar(cax) \n",
        "plt.title(\"OverSample (SMOTE) \\n Confusion Matrix\",y=1.08)\n",
        "ax.set_xticklabels([''] + labels)\n",
        "ax.set_yticklabels([''] + labels)\n",
        "plt.xlabel('Predicted')\n",
        "plt.ylabel('True')\n",
        "for i in range(len(oversample_smote)):\n",
        "    for j in range(len(oversample_smote)):\n",
        "        plt.annotate(oversample_smote[i,j],xy=(j,i),horizontalalignment='center',verticalalignment='center',size=15,color='orange') \n",
        "plt.show()\n",
        "\n",
        "\n",
        "#Confusion Matrix (with 100% accuracy\n",
        "fig = plt.figure()\n",
        "ax = fig.add_subplot(111)\n",
        "cax=ax.matshow(actual_cm,cmap=plt.cm.Reds)  # plot matrix    \n",
        "fig.colorbar(cax) \n",
        "plt.title(\"Confusion Matrix \\n (with 100% accuracy)\",y=1.08)\n",
        "ax.set_xticklabels([''] + labels)\n",
        "ax.set_yticklabels([''] + labels)\n",
        "plt.xlabel('Predicted')\n",
        "plt.ylabel('True')\n",
        "for i in range(len(actual_cm)):\n",
        "    for j in range(len(actual_cm)):\n",
        "        plt.annotate(actual_cm[i,j],xy=(j,i),horizontalalignment='center',verticalalignment='center',size=15,color='orange') \n",
        "plt.show()"
      ],
      "execution_count": 0,
      "outputs": [
        {
          "output_type": "display_data",
          "data": {
            "image/png": "[encoded data removed]",
            "text/plain": [
              "<Figure size 432x288 with 2 Axes>"
            ]
          },
          "metadata": {
            "tags": []
          }
        },
        {
          "output_type": "display_data",
          "data": {
            "image/png": "[encoded data removed]",
            "text/plain": [
              "<Figure size 432x288 with 2 Axes>"
            ]
          },
          "metadata": {
            "tags": []
          }
        }
      ]
    },
    {
      "cell_type": "code",
      "metadata": {
        "id": "XtDb6VFCiSV4",
        "colab_type": "code",
        "colab": {}
      },
      "source": [
        "#####################################################\n",
        "###Confusion matrix\n",
        "#####################################################\n",
        "print(\"OverSample (SMOTE): precison and recall score\")\n",
        "TP = oversample_smote[0,0]\n",
        "TN = oversample_smote[1,0]\n",
        "FP = oversample_smote[0,1]\n",
        "FN = oversample_smote[1,1]\n",
        "\n",
        "precision = TP/(TP+FP)\n",
        "recall = TP/(TP+FN)\n",
        "accuracy = (TP+TN) / (TP+FP+FN+TN)\n",
        "F1_Measure = 2*TP / (2*TP+FP+FN) #F1_Measure = 2PR / (P+R) = \n",
        "print(\"precision score:\",precision)\n",
        "print(\"recall score:\",recall)\n",
        "print(\"accuracy score:\",accuracy)\n",
        "print(\"F1 measure:\",F1_Measure,\"\\n\")\n",
        "\n",
        "#####################################################\n",
        "###precision_recall_curve\n",
        "#####################################################\n",
        "from sklearn.metrics import average_precision_score\n",
        "from sklearn.metrics import precision_recall_curve\n",
        "import matplotlib.pyplot as plt\n",
        "\n",
        "average_precision = average_precision_score(orig_ytest, oversample_fraud_predictions)\n",
        "\n",
        "print('Average precision-recall score: {0:0.2f}'.format(\n",
        "      average_precision))\n",
        "\n",
        "fig = plt.figure(figsize=(12,6))\n",
        "\n",
        "precision, recall, _ = precision_recall_curve(orig_ytest, oversample_fraud_predictions)\n",
        "\n",
        "plt.step(recall, precision, color='r', alpha=0.2,\n",
        "         where='post')\n",
        "plt.fill_between(recall, precision, step='post', alpha=0.2,\n",
        "                 color='#F59B00')\n",
        "\n",
        "plt.xlabel('Recall')\n",
        "plt.ylabel('Precision')\n",
        "plt.ylim([0.0, 1.05])\n",
        "plt.xlim([0.0, 1.0])\n",
        "plt.title('Neural Network OverSampling Precision-Recall curve: \\n Average Precision-Recall Score ={0:0.2f}'.format(\n",
        "          average_precision), fontsize=16)\n",
        "plt.show()"
      ],
      "execution_count": 0,
      "outputs": []
    }
  ]
}